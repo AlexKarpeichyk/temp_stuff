{
 "cells": [
  {
   "cell_type": "markdown",
   "metadata": {},
   "source": [
    "1. All data is stored in \"/its/teaching/Departments/Informatics/LanguageEngineering/resources/data/gutenberg_eng\"\n",
    "2. Students need to keep the pickled dictionary \"authors.p\" and the dir of texts \"cleaned_meta_gutenberg\" in the same directory.\n",
    "3. They should not rename the dictionary, directory of documents or the documents otherwise the reader will fail\n",
    "    (i.e. - it used relative file paths from the root dir)\n",
    "4. This code should work in Python 2.7 or 3"
   ]
  },
  {
   "cell_type": "code",
   "execution_count": 1,
   "metadata": {},
   "outputs": [
    {
     "ename": "ImportError",
     "evalue": "No module named GutenbergCorpus",
     "output_type": "error",
     "traceback": [
      "\u001b[0;31m---------------------------------------------------------------------------\u001b[0m",
      "\u001b[0;31mImportError\u001b[0m                               Traceback (most recent call last)",
      "\u001b[0;32m<ipython-input-1-a14d25a567b1>\u001b[0m in \u001b[0;36m<module>\u001b[0;34m()\u001b[0m\n\u001b[1;32m      1\u001b[0m \u001b[0;31m## Add this to the static imports at the top of the page - they only need to instantiate it once!\u001b[0m\u001b[0;34m\u001b[0m\u001b[0;34m\u001b[0m\u001b[0m\n\u001b[0;32m----> 2\u001b[0;31m \u001b[0;32mfrom\u001b[0m \u001b[0mGutenbergCorpus\u001b[0m \u001b[0;32mimport\u001b[0m \u001b[0mGutenbergCorpusReader\u001b[0m \u001b[0;32mas\u001b[0m \u001b[0mgcr\u001b[0m\u001b[0;34m\u001b[0m\u001b[0m\n\u001b[0m\u001b[1;32m      3\u001b[0m \u001b[0mreader\u001b[0m \u001b[0;34m=\u001b[0m \u001b[0mgcr\u001b[0m\u001b[0;34m.\u001b[0m\u001b[0mGutenbergCorpusReader\u001b[0m\u001b[0;34m(\u001b[0m\u001b[0;34m)\u001b[0m                         \u001b[0;31m## Sussex constructor\u001b[0m\u001b[0;34m\u001b[0m\u001b[0m\n\u001b[1;32m      4\u001b[0m \u001b[0mreader\u001b[0m \u001b[0;34m=\u001b[0m \u001b[0mgcr\u001b[0m\u001b[0;34m.\u001b[0m\u001b[0mGutenbergCorpusReader\u001b[0m\u001b[0;34m(\u001b[0m\u001b[0;34m\"/file/path/to/root/dir\"\u001b[0m\u001b[0;34m)\u001b[0m \u001b[0;31m## Working from home - location of root folder\u001b[0m\u001b[0;34m\u001b[0m\u001b[0m\n\u001b[1;32m      5\u001b[0m                                                              \u001b[0;31m## root folder must contain \"authors.p\" and \"cleaned_meta_gutenberg\"\u001b[0m\u001b[0;34m\u001b[0m\u001b[0;34m\u001b[0m\u001b[0m\n",
      "\u001b[0;31mImportError\u001b[0m: No module named GutenbergCorpus"
     ]
    }
   ],
   "source": [
    "## Add this to the static imports at the top of the page - they only need to instantiate it once!\n",
    "from GutenbergCorpus import GutenbergCorpusReader as gcr\n",
    "reader = gcr.GutenbergCorpusReader()                         ## Sussex constructor\n",
    "reader = gcr.GutenbergCorpusReader(\"/file/path/to/root/dir\") ## Working from home - location of root folder\n",
    "                                                             ## root folder must contain \"authors.p\" and \"cleaned_meta_gutenberg\""
   ]
  },
  {
   "cell_type": "code",
   "execution_count": null,
   "metadata": {
    "collapsed": true
   },
   "outputs": [],
   "source": [
    "## Get a pickled dictionary of the authors in Gutenberg\n",
    "## Key = author name - string which is used to index and retrieve the works of the author\n",
    "## Value = The names of the files containing the works of that author\n",
    "authors = reader.get_authors()"
   ]
  },
  {
   "cell_type": "code",
   "execution_count": null,
   "metadata": {
    "collapsed": true
   },
   "outputs": [],
   "source": [
    "## Pretty prints the author keys and the number of publications they have in the corpus \n",
    "reader.print_authors()"
   ]
  },
  {
   "cell_type": "code",
   "execution_count": null,
   "metadata": {
    "collapsed": true
   },
   "outputs": [],
   "source": [
    "## Returns a list of dictionaries \n",
    "## Each dictionary is a work written by <AUTHOR>\n",
    "## Each dictionary has the meta-data keys: \"author\", \"title\", \"text\"\n",
    "works = reader.get_authors_works(\"<AUTHOR>\")"
   ]
  },
  {
   "cell_type": "code",
   "execution_count": null,
   "metadata": {
    "collapsed": true
   },
   "outputs": [],
   "source": [
    "## Returns a random sample of works from the corpus (dictionaries as per - get_authors_works(\"<AUTHOR>\"))\n",
    "## No parameter returns a sample of 2000 works - probably a little too large\n",
    "sample = reader.sample()\n",
    "sample = reader.sample(10)"
   ]
  }
 ],
 "metadata": {
  "kernelspec": {
   "display_name": "Python 3",
   "language": "python",
   "name": "python3"
  },
  "language_info": {
   "codemirror_mode": {
    "name": "ipython",
    "version": 3
   },
   "file_extension": ".py",
   "mimetype": "text/x-python",
   "name": "python",
   "nbconvert_exporter": "python",
   "pygments_lexer": "ipython3",
   "version": "3.6.3"
  }
 },
 "nbformat": 4,
 "nbformat_minor": 1
}
