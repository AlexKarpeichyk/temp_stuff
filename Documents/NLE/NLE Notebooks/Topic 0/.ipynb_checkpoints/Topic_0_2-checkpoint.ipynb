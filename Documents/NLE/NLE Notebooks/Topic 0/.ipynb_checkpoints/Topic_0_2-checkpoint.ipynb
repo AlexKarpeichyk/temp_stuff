{
 "cells": [
  {
   "cell_type": "markdown",
   "metadata": {},
   "source": [
    "# Topic 0: Introduction to Python (Part 2)"
   ]
  },
  {
   "cell_type": "markdown",
   "metadata": {},
   "source": [
    "This is the second part of the Introduction to Python for Natural Language Engineering course.\n",
    "\n",
    "These notebooks are designed to give you the working knowledge of Python necessary to complete the lab sessions for Natural Language Engineering. \n",
    "\n",
    "From the last notebook you should be familiar with python types, basic operators, identifiers, booleans and conditions, lists and strings.  This notebook will introduce you to defining functions, using comments and docstrings and working with more data structures such as sets, tuples and dictionaries.\n",
    "\n",
    "As in the last session:-\n",
    "\n",
    "- Run all of the code cells as you work through the notebook. \n",
    "- Try to understand what is happening in each code cell and predict the output before running it.\n",
    "- Complete all of the exercises.\n",
    "- Solutions to all exercises are provided, but please avoid loading the solution until you have had a go at solving it yourself.\n"
   ]
  },
  {
   "cell_type": "markdown",
   "metadata": {},
   "source": [
    "Run the following cell twice, first to load some set up code, then again to run the code."
   ]
  },
  {
   "cell_type": "code",
   "execution_count": 1,
   "metadata": {
    "collapsed": true
   },
   "outputs": [],
   "source": [
    "# %load ../setup\n",
    "import sys\n",
    "#sys.path.append(r'T:\\Departments\\Informatics\\LanguageEngineering') \n",
    "sys.path.append(r'/Users/davidw/Documents/teach/NLE/resources')\n",
    "#sys.path.append(r'\\\\ad.susx.ac.uk\\ITS\\TeachingResources\\Departments\\Informatics\\LanguageEngineering\\resources)\n",
    "import re\n",
    "import pandas as pd\n",
    "import numpy as np\n",
    "import matplotlib.pyplot as plt\n",
    "import collections\n",
    "from collections import defaultdict,Counter\n",
    "from itertools import zip_longest\n",
    "from IPython.display import display\n",
    "from random import seed\n",
    "get_ipython().magic('matplotlib inline')\n",
    "import random\n",
    "import math\n",
    "import matplotlib.pylab as pylab\n",
    "%matplotlib inline\n",
    "params = {'legend.fontsize': 'large',\n",
    "          'figure.figsize': (15, 5),\n",
    "         'axes.labelsize': 'large',\n",
    "         'axes.titlesize':'large',\n",
    "         'xtick.labelsize':'large',\n",
    "         'ytick.labelsize':'large'}\n",
    "pylab.rcParams.update(params)\n",
    "from pylab import rcParams\n",
    "from operator import itemgetter, attrgetter, methodcaller\n",
    "import matplotlib.pyplot as plt\n",
    "from sklearn.decomposition import TruncatedSVD\n",
    "from sklearn.feature_extraction.text import TfidfVectorizer\n",
    "import seaborn as sns\n",
    "import csv\n",
    "\n"
   ]
  },
  {
   "cell_type": "markdown",
   "metadata": {},
   "source": [
    "## Functions\n",
    "Functions are defined using the keyword `def`, followed by a function name, and a list of parameters in parentheses. Don't forget the `:` after the closing parenthesis.\n",
    "\n",
    "The body of the function starts on the next line, and must be indented."
   ]
  },
  {
   "cell_type": "code",
   "execution_count": 22,
   "metadata": {
    "collapsed": true
   },
   "outputs": [],
   "source": [
    "def double(number):\n",
    "     return(number * 2)"
   ]
  },
  {
   "cell_type": "code",
   "execution_count": 4,
   "metadata": {},
   "outputs": [
    {
     "data": {
      "text/plain": [
       "26"
      ]
     },
     "execution_count": 4,
     "metadata": {},
     "output_type": "execute_result"
    }
   ],
   "source": [
    "double(13)"
   ]
  },
  {
   "cell_type": "code",
   "execution_count": 5,
   "metadata": {},
   "outputs": [
    {
     "data": {
      "text/plain": [
       "function"
      ]
     },
     "execution_count": 5,
     "metadata": {},
     "output_type": "execute_result"
    }
   ],
   "source": [
    "type(double)"
   ]
  },
  {
   "cell_type": "code",
   "execution_count": 6,
   "metadata": {
    "collapsed": true
   },
   "outputs": [],
   "source": [
    "def add_question_mark(string):\n",
    "    return string + \"?\""
   ]
  },
  {
   "cell_type": "code",
   "execution_count": 7,
   "metadata": {},
   "outputs": [
    {
     "data": {
      "text/plain": [
       "\"what's your name?\""
      ]
     },
     "execution_count": 7,
     "metadata": {},
     "output_type": "execute_result"
    }
   ],
   "source": [
    "add_question_mark(\"what's your name\")"
   ]
  },
  {
   "cell_type": "code",
   "execution_count": 8,
   "metadata": {
    "collapsed": true
   },
   "outputs": [],
   "source": [
    "def print_first_half(string):\n",
    "    half_length_of_string = len(string)//2 #use floor division as indices must be integers\n",
    "    return string[:half_length_of_string]"
   ]
  },
  {
   "cell_type": "code",
   "execution_count": 9,
   "metadata": {},
   "outputs": [
    {
     "data": {
      "text/plain": [
       "'hi how are'"
      ]
     },
     "execution_count": 9,
     "metadata": {},
     "output_type": "execute_result"
    }
   ],
   "source": [
    "print_first_half('hi how are you doing?')"
   ]
  },
  {
   "cell_type": "markdown",
   "metadata": {},
   "source": [
    "### Exercise\n",
    "In the empty cell below define a function called `square` that returns an input parameter squared. \n",
    "\n",
    "Hint: check the 'basic functions' section above, for the Python syntax for exponentials."
   ]
  },
  {
   "cell_type": "code",
   "execution_count": 3,
   "metadata": {},
   "outputs": [
    {
     "data": {
      "text/plain": [
       "144"
      ]
     },
     "execution_count": 3,
     "metadata": {},
     "output_type": "execute_result"
    }
   ],
   "source": [
    "def square(input):\n",
    "    return input**2\n",
    "\n",
    "square(12)"
   ]
  },
  {
   "cell_type": "code",
   "execution_count": null,
   "metadata": {
    "collapsed": true
   },
   "outputs": [],
   "source": [
    "# %load solutions//square_function\n",
    "def square(x):\n",
    "    return x ** 2\n",
    "square(12)\n"
   ]
  },
  {
   "cell_type": "markdown",
   "metadata": {},
   "source": [
    "### Exercise\n",
    "In the empty cell below define a function `makelist` that takes a sentence string as an input, and returns a list of the words in the sentence."
   ]
  },
  {
   "cell_type": "code",
   "execution_count": 6,
   "metadata": {},
   "outputs": [
    {
     "data": {
      "text/plain": [
       "['This', 'world', 'will', 'fall,', 'like', 'all', 'the', 'others']"
      ]
     },
     "execution_count": 6,
     "metadata": {},
     "output_type": "execute_result"
    }
   ],
   "source": [
    "def makelist(input_text):\n",
    "    return input_text.split()\n",
    "\n",
    "makelist(\"This world will fall, like all the others\")"
   ]
  },
  {
   "cell_type": "code",
   "execution_count": 3,
   "metadata": {},
   "outputs": [],
   "source": [
    "# uncomment the next line and then run the cell to load a solution\n",
    "# %load solutions//make_list"
   ]
  },
  {
   "cell_type": "markdown",
   "metadata": {},
   "source": [
    "### Comments and docstrings\n",
    "\n",
    "Look at the code in the code cell below.\n",
    "\n",
    "- The first block of text shows how doc strings are used by convention in Python. By convention, all function definitions should begin with a block of documentation (docstring) of the form given by the first block in triple quotes in the programme below.\n",
    "- Comments in the code itself are introduced by a `#` either as a separate line or appended to the end of a line. Python will ignore the rest of a line after a `#`.\n",
    "\n",
    "When you type shift-enter to execute the cell, the function exists in the kernel and can be called by any cell in the notebook. The function definition ends as soon as the indentation ceases (this is triggered by the comment `\"Here is the argument:\"`).  After creating the function the kernel will continue to execute the contents of the cell, thereby calling the function. \n",
    "\n",
    "Notice how the programme splits a character string at carriage return (\"\\n\") characters. This works because split is an inbuilt method of the text data type. Therefore all text objects can be split in this way.\n",
    "- `\\n` is the carriage return character. \n",
    "- `\\t` can be used similarly for reading tab separated data.\n",
    "- If you leave the argument empty it will treat any string of whitespace as a delimiter to be split. This has the advantage that a double space will be treated as a single delimiter.\n",
    "\n",
    "### Exercise\n",
    "In the cell below examine the contents of the variable `sample_text` with and without the print function.\n",
    "- Notice that execution of the first cell means the variable is now in the kernel and accessible to any cell.\n",
    "- Use the same box to try printing the variable `input_text`. What happens? Why?"
   ]
  },
  {
   "cell_type": "code",
   "execution_count": 5,
   "metadata": {},
   "outputs": [
    {
     "name": "stdout",
     "output_type": "stream",
     "text": [
      "Number of paragraphs:  4\n"
     ]
    }
   ],
   "source": [
    "\n",
    "def count_paragraphs(input_text):\n",
    "    \"\"\"\n",
    "    A paragraph is defined as the text before a CR character ie.: \"\\n\".\n",
    "    Take a character string, split it into paragraphs, count them\n",
    "    and return the count.\n",
    "    :param input_text: a character string containing paragraph marks.\n",
    "    :return: integer, the number of paragraphs.\n",
    "    \"\"\"\n",
    "    \n",
    "    # The following statement creates a list of strings by breaking\n",
    "    # up input_text wherever a \"\\n\" character occurs\n",
    "    \n",
    "    paragraphs = input_text.split(\"\\n\")  \n",
    "    \n",
    "    # The len() function counts the number of elements in the list\n",
    "    \n",
    "    return len(paragraphs)\n",
    "\n",
    "# Here is the argument:\n",
    "\n",
    "sample_text = \"This is a sample sentence01 showing 7 different token types: alphabetic, numeric, alphanumeric, Title, UPPERCASE, CamelCase and punctuation!\\nSentences like that should not exist. They're too artificial.\\nA REAL sentence looks different. It has flavour to it. You can smell it; it's like Pythonic code, you know?\\nHave you heard of 'code smell'? Google it if you haven't.\"\n",
    "print (sample_text)\n",
    "\n",
    "# Here is the function call:\n",
    "\n",
    "print (\"Number of paragraphs: \", count_paragraphs(sample_text))"
   ]
  },
  {
   "cell_type": "markdown",
   "metadata": {},
   "source": [
    "### Exercise\n",
    "In the blank cell below examine the contents of the variable `sample_text` with and without the print function.\n",
    "- Notice that execution of the first cell means the variable is now in the kernel and accessible to any cell.\n",
    "- Use the same box to try printing the variable `input_text`. What happens? Why?"
   ]
  },
  {
   "cell_type": "code",
   "execution_count": 6,
   "metadata": {},
   "outputs": [
    {
     "ename": "NameError",
     "evalue": "name 'input_text' is not defined",
     "output_type": "error",
     "traceback": [
      "\u001b[1;31m---------------------------------------------------------------------------\u001b[0m",
      "\u001b[1;31mNameError\u001b[0m                                 Traceback (most recent call last)",
      "\u001b[1;32m<ipython-input-6-6f4862d35878>\u001b[0m in \u001b[0;36m<module>\u001b[1;34m()\u001b[0m\n\u001b[0;32m      1\u001b[0m \u001b[0msample_text\u001b[0m\u001b[1;33m\u001b[0m\u001b[0m\n\u001b[1;32m----> 2\u001b[1;33m \u001b[0mprint\u001b[0m\u001b[1;33m(\u001b[0m\u001b[0minput_text\u001b[0m\u001b[1;33m)\u001b[0m\u001b[1;33m\u001b[0m\u001b[0m\n\u001b[0m\u001b[0;32m      3\u001b[0m \u001b[1;33m\u001b[0m\u001b[0m\n",
      "\u001b[1;31mNameError\u001b[0m: name 'input_text' is not defined"
     ]
    }
   ],
   "source": [
    "sample_text\n",
    "print(input_text)\n",
    "\n"
   ]
  },
  {
   "cell_type": "markdown",
   "metadata": {},
   "source": [
    "## Sets  \n",
    "These are *unordered* lists of *unique* elements.\n",
    "\n",
    "Note the use of curly  brackets rather than the square brackets used for lists."
   ]
  },
  {
   "cell_type": "code",
   "execution_count": 2,
   "metadata": {},
   "outputs": [
    {
     "data": {
      "text/plain": [
       "{1, 2, 3}"
      ]
     },
     "execution_count": 2,
     "metadata": {},
     "output_type": "execute_result"
    }
   ],
   "source": [
    "unique_numbers = {1, 2, 2, 2, 3}\n",
    "unique_numbers"
   ]
  },
  {
   "cell_type": "code",
   "execution_count": 11,
   "metadata": {},
   "outputs": [
    {
     "data": {
      "text/plain": [
       "set"
      ]
     },
     "execution_count": 11,
     "metadata": {},
     "output_type": "execute_result"
    }
   ],
   "source": [
    "type(unique_numbers)"
   ]
  },
  {
   "cell_type": "markdown",
   "metadata": {},
   "source": [
    "To initialise an empty set, use `set()`"
   ]
  },
  {
   "cell_type": "code",
   "execution_count": 12,
   "metadata": {},
   "outputs": [
    {
     "data": {
      "text/plain": [
       "set"
      ]
     },
     "execution_count": 12,
     "metadata": {},
     "output_type": "execute_result"
    }
   ],
   "source": [
    "new_set = set()\n",
    "type(new_set)"
   ]
  },
  {
   "cell_type": "markdown",
   "metadata": {},
   "source": [
    "To add an element to a set use the method `add`."
   ]
  },
  {
   "cell_type": "code",
   "execution_count": 16,
   "metadata": {},
   "outputs": [
    {
     "name": "stdout",
     "output_type": "stream",
     "text": [
      "{1, 2, 3, 5}\n"
     ]
    }
   ],
   "source": [
    "unique_numbers.add(5)\n",
    "print(unique_numbers)"
   ]
  },
  {
   "cell_type": "markdown",
   "metadata": {},
   "source": [
    "Use `len` to give the number of elements in a set."
   ]
  },
  {
   "cell_type": "code",
   "execution_count": 14,
   "metadata": {},
   "outputs": [
    {
     "data": {
      "text/plain": [
       "4"
      ]
     },
     "execution_count": 14,
     "metadata": {},
     "output_type": "execute_result"
    }
   ],
   "source": [
    "len(unique_numbers)"
   ]
  },
  {
   "cell_type": "markdown",
   "metadata": {},
   "source": [
    "To check the presence of an element in a set use the keyword `in`.\n",
    "\n",
    "Similar to the use of `in` for lists and strings."
   ]
  },
  {
   "cell_type": "code",
   "execution_count": 17,
   "metadata": {},
   "outputs": [
    {
     "data": {
      "text/plain": [
       "True"
      ]
     },
     "execution_count": 17,
     "metadata": {},
     "output_type": "execute_result"
    }
   ],
   "source": [
    "2 in unique_numbers"
   ]
  },
  {
   "cell_type": "markdown",
   "metadata": {
    "collapsed": true
   },
   "source": [
    "Iterating over a set\n",
    "\n",
    "The syntax for iterating over a set is similar to that used when iterating over a list. \n",
    "\n",
    "Remember to use `for`, `in`, `:` and indentation."
   ]
  },
  {
   "cell_type": "code",
   "execution_count": 18,
   "metadata": {},
   "outputs": [
    {
     "name": "stdout",
     "output_type": "stream",
     "text": [
      "3\n",
      "6\n",
      "9\n",
      "15\n"
     ]
    }
   ],
   "source": [
    "for number in unique_numbers:\n",
    "    print(number * 3)"
   ]
  },
  {
   "cell_type": "code",
   "execution_count": 23,
   "metadata": {
    "scrolled": true
   },
   "outputs": [
    {
     "name": "stdout",
     "output_type": "stream",
     "text": [
      "2\n",
      "4\n",
      "6\n"
     ]
    }
   ],
   "source": [
    "for number in unique_numbers:\n",
    "    print (double(number))"
   ]
  },
  {
   "cell_type": "markdown",
   "metadata": {},
   "source": [
    "### Exercise\n",
    "In the empty cell below create a function called `get_vocabulary` that takes a *list* of words as input, and returns a *set* of the words in the sentence.\n",
    "\n",
    "Use your function `get_vocabulary` to create the set dickens_vocab, a set of unique words in the opening_line (see above)."
   ]
  },
  {
   "cell_type": "code",
   "execution_count": 14,
   "metadata": {},
   "outputs": [
    {
     "data": {
      "text/plain": [
       "{'It', 'best', 'it', 'of', 'the', 'times', 'was', 'worst'}"
      ]
     },
     "execution_count": 14,
     "metadata": {},
     "output_type": "execute_result"
    }
   ],
   "source": [
    "def get_vocabulary(words_list):\n",
    "    dickens_vocab = set(words_list)\n",
    "    #for word in words_list:\n",
    "        #dickens_vocab.add(word)\n",
    "    return dickens_vocab\n",
    "opening_line = \"It was the best of times it was the worst of times\"\n",
    "get_vocabulary(opening_line.split())"
   ]
  },
  {
   "cell_type": "code",
   "execution_count": 7,
   "metadata": {},
   "outputs": [],
   "source": [
    "# %load solutions//get_vocabulary\n"
   ]
  },
  {
   "cell_type": "markdown",
   "metadata": {},
   "source": [
    "    \n",
    "The code in the next cell shows how to create a vocabulary with the set datatype."
   ]
  },
  {
   "cell_type": "code",
   "execution_count": 17,
   "metadata": {},
   "outputs": [
    {
     "name": "stdout",
     "output_type": "stream",
     "text": [
      "sentence\n",
      "types:\n",
      "a\n",
      "numeric,\n",
      "of\n",
      "Title,\n",
      "exist.\n",
      "CamelCase\n",
      "alphabetic,\n",
      "like\n",
      "showing\n",
      "alphanumeric,\n",
      "A\n",
      "can\n",
      "haven't.\n",
      "and\n",
      "should\n",
      "not\n",
      "that\n",
      "different.\n",
      "7\n",
      "You\n",
      "know?\n",
      "it.\n",
      "UPPERCASE,\n",
      "has\n",
      "is\n",
      "'code\n",
      "looks\n",
      "code,\n",
      "smell'?\n",
      "punctuation!\n",
      "sentence01\n",
      "to\n",
      "it's\n",
      "Sentences\n",
      "Have\n",
      "It\n",
      "heard\n",
      "it;\n",
      "They're\n",
      "if\n",
      "it\n",
      "different\n",
      "Google\n",
      "REAL\n",
      "This\n",
      "Pythonic\n",
      "token\n",
      "flavour\n",
      "sample\n",
      "too\n",
      "smell\n",
      "you\n",
      "artificial.\n"
     ]
    }
   ],
   "source": [
    "def get_vocabulary(input_text):\n",
    "    \"\"\"\n",
    "    A word is defined as a character string delimited by\n",
    "    a space \" \" character.\n",
    "    Given an input string, split it into words and\n",
    "    return the set of unique words in the input.\n",
    "    :param input_text: Character string with some text\n",
    "    :return: The set of unique words in the input.\n",
    "    \"\"\"\n",
    "    \n",
    "    list_of_words = input_text.split()\n",
    "    \n",
    "    # The following line takes the list of words,\n",
    "    # removes repetitions and creates a set:\n",
    "\n",
    "    return set(list_of_words)\n",
    "\n",
    "# The following loop is repeated for every word in the set\n",
    "# Note that a set is just one of many iterable objects:\n",
    "\n",
    "\n",
    "for word in get_vocabulary(sample_text):\n",
    "    print (word)"
   ]
  },
  {
   "cell_type": "markdown",
   "metadata": {},
   "source": [
    "## Dictionaries\n",
    "A dictionary is an *unordered* set of key:value pairs. \n",
    "\n",
    "Keys are used to index the dictionary.\n",
    "\n",
    "The main operations are storing a value with a key, and then extracting a specific value using its key. \n",
    "\n",
    "Each key in a given dictionary must be unique. \n",
    "\n",
    "A dictionary is initialised with curly braces. This can contain comma-separated key:value pairs. \n",
    "\n",
    "Note the use of ':' to map a key to a value."
   ]
  },
  {
   "cell_type": "code",
   "execution_count": 12,
   "metadata": {},
   "outputs": [
    {
     "ename": "TypeError",
     "evalue": "'dict' object is not callable",
     "output_type": "error",
     "traceback": [
      "\u001b[1;31m---------------------------------------------------------------------------\u001b[0m",
      "\u001b[1;31mTypeError\u001b[0m                                 Traceback (most recent call last)",
      "\u001b[1;32m<ipython-input-12-191ee06d71dc>\u001b[0m in \u001b[0;36m<module>\u001b[1;34m()\u001b[0m\n\u001b[0;32m      1\u001b[0m \u001b[0msimpsons_ages\u001b[0m \u001b[1;33m=\u001b[0m \u001b[1;33m{\u001b[0m\u001b[1;34m\"Bart\"\u001b[0m\u001b[1;33m:\u001b[0m\u001b[1;36m10\u001b[0m\u001b[1;33m,\u001b[0m \u001b[1;34m\"Lisa\"\u001b[0m\u001b[1;33m:\u001b[0m\u001b[1;36m8\u001b[0m\u001b[1;33m,\u001b[0m \u001b[1;34m\"Homer\"\u001b[0m \u001b[1;33m:\u001b[0m \u001b[1;34m\"thirty something\"\u001b[0m\u001b[1;33m}\u001b[0m\u001b[1;33m\u001b[0m\u001b[0m\n\u001b[1;32m----> 2\u001b[1;33m \u001b[0msimpsons_ages\u001b[0m\u001b[1;33m(\u001b[0m\u001b[1;36m1\u001b[0m\u001b[1;33m)\u001b[0m\u001b[1;33m\u001b[0m\u001b[0m\n\u001b[0m\u001b[0;32m      3\u001b[0m \u001b[0msimpsons_ages\u001b[0m\u001b[1;33m\u001b[0m\u001b[0m\n",
      "\u001b[1;31mTypeError\u001b[0m: 'dict' object is not callable"
     ]
    }
   ],
   "source": [
    "simpsons_ages = {\"Bart\":10, \"Lisa\":8, \"Homer\" : \"thirty something\"}\n",
    "simpsons_ages\n",
    "simpsons_ages"
   ]
  },
  {
   "cell_type": "code",
   "execution_count": 33,
   "metadata": {},
   "outputs": [
    {
     "data": {
      "text/plain": [
       "dict"
      ]
     },
     "execution_count": 33,
     "metadata": {},
     "output_type": "execute_result"
    }
   ],
   "source": [
    "type(simpsons_ages)"
   ]
  },
  {
   "cell_type": "markdown",
   "metadata": {},
   "source": [
    "Accessing the values of keys in a dictionary"
   ]
  },
  {
   "cell_type": "code",
   "execution_count": 34,
   "metadata": {},
   "outputs": [
    {
     "data": {
      "text/plain": [
       "'thirty something'"
      ]
     },
     "execution_count": 34,
     "metadata": {},
     "output_type": "execute_result"
    }
   ],
   "source": [
    "simpsons_ages[\"Homer\"]"
   ]
  },
  {
   "cell_type": "code",
   "execution_count": 35,
   "metadata": {},
   "outputs": [
    {
     "data": {
      "text/plain": [
       "10"
      ]
     },
     "execution_count": 35,
     "metadata": {},
     "output_type": "execute_result"
    }
   ],
   "source": [
    "simpsons_ages['Bart']"
   ]
  },
  {
   "cell_type": "markdown",
   "metadata": {},
   "source": [
    "Getting the number of elements in a dictionary.\n",
    "\n",
    "Just like getting the length of a list, we use the keyword `len`."
   ]
  },
  {
   "cell_type": "code",
   "execution_count": 36,
   "metadata": {},
   "outputs": [
    {
     "data": {
      "text/plain": [
       "3"
      ]
     },
     "execution_count": 36,
     "metadata": {},
     "output_type": "execute_result"
    }
   ],
   "source": [
    "len(simpsons_ages)"
   ]
  },
  {
   "cell_type": "markdown",
   "metadata": {},
   "source": [
    "Checking the presence of a key in a dictionary."
   ]
  },
  {
   "cell_type": "code",
   "execution_count": 37,
   "metadata": {},
   "outputs": [
    {
     "data": {
      "text/plain": [
       "False"
      ]
     },
     "execution_count": 37,
     "metadata": {},
     "output_type": "execute_result"
    }
   ],
   "source": [
    "\"Marge\" in simpsons_ages"
   ]
  },
  {
   "cell_type": "code",
   "execution_count": 38,
   "metadata": {},
   "outputs": [
    {
     "data": {
      "text/plain": [
       "True"
      ]
     },
     "execution_count": 38,
     "metadata": {},
     "output_type": "execute_result"
    }
   ],
   "source": [
    "\"Bart\" in simpsons_ages"
   ]
  },
  {
   "cell_type": "markdown",
   "metadata": {},
   "source": [
    "Accessing a key that does not exist is an error."
   ]
  },
  {
   "cell_type": "code",
   "execution_count": 39,
   "metadata": {},
   "outputs": [
    {
     "ename": "KeyError",
     "evalue": "'Krusty'",
     "output_type": "error",
     "traceback": [
      "\u001b[0;31m---------------------------------------------------------------------------\u001b[0m",
      "\u001b[0;31mKeyError\u001b[0m                                  Traceback (most recent call last)",
      "\u001b[0;32m<ipython-input-39-1f51d4f6a4d5>\u001b[0m in \u001b[0;36m<module>\u001b[0;34m()\u001b[0m\n\u001b[0;32m----> 1\u001b[0;31m \u001b[0msimpsons_ages\u001b[0m\u001b[1;33m[\u001b[0m\u001b[1;34m\"Krusty\"\u001b[0m\u001b[1;33m]\u001b[0m\u001b[1;33m\u001b[0m\u001b[0m\n\u001b[0m",
      "\u001b[0;31mKeyError\u001b[0m: 'Krusty'"
     ]
    }
   ],
   "source": [
    "simpsons_ages[\"Krusty\"]"
   ]
  },
  {
   "cell_type": "markdown",
   "metadata": {},
   "source": [
    "Accessing a key that does not exist using the .get() method, which supplies a default value to use in this case."
   ]
  },
  {
   "cell_type": "code",
   "execution_count": 41,
   "metadata": {},
   "outputs": [
    {
     "data": {
      "text/plain": [
       "'Nope'"
      ]
     },
     "execution_count": 41,
     "metadata": {},
     "output_type": "execute_result"
    }
   ],
   "source": [
    "simpsons_ages.get(\"Krusty\",\"Nope\")"
   ]
  },
  {
   "cell_type": "markdown",
   "metadata": {},
   "source": [
    "Adding a new key:value entry to the dictionary."
   ]
  },
  {
   "cell_type": "code",
   "execution_count": 42,
   "metadata": {},
   "outputs": [
    {
     "data": {
      "text/plain": [
       "34"
      ]
     },
     "execution_count": 42,
     "metadata": {},
     "output_type": "execute_result"
    }
   ],
   "source": [
    "simpsons_ages[\"Marge\"] = 34\n",
    "simpsons_ages[\"Marge\"]"
   ]
  },
  {
   "cell_type": "markdown",
   "metadata": {},
   "source": [
    "### Exercise\n",
    "In the blank cell below add two extra key-value pairs to the dictionary, `simpons_ages`, each consisting of a name and corresponding age."
   ]
  },
  {
   "cell_type": "code",
   "execution_count": 44,
   "metadata": {},
   "outputs": [
    {
     "data": {
      "text/plain": [
       "{'Alex': 22,\n",
       " 'Bart': 10,\n",
       " 'Homer': 'thirty something',\n",
       " 'Lisa': 8,\n",
       " 'Marge': 34,\n",
       " 'Mike': 27}"
      ]
     },
     "execution_count": 44,
     "metadata": {},
     "output_type": "execute_result"
    }
   ],
   "source": [
    "simpsons_ages[\"Alex\"] = 22\n",
    "simpsons_ages[\"Mike\"] = 27\n",
    "simpsons_ages"
   ]
  },
  {
   "cell_type": "code",
   "execution_count": null,
   "metadata": {
    "collapsed": true
   },
   "outputs": [],
   "source": [
    "# %load solutions//more_simpsons\n",
    "simpsons_ages[\"Krusty\"] = 20\n",
    "simpsons_ages[\"Milhouse\"] = 13\n"
   ]
  },
  {
   "cell_type": "markdown",
   "metadata": {},
   "source": [
    "Use a `for` loop to iterate over *keys* in the dictionary."
   ]
  },
  {
   "cell_type": "code",
   "execution_count": 46,
   "metadata": {},
   "outputs": [
    {
     "name": "stdout",
     "output_type": "stream",
     "text": [
      "Bart\n",
      "Lisa\n",
      "Homer\n",
      "Marge\n",
      "Alex\n",
      "Mike\n"
     ]
    }
   ],
   "source": [
    "for person in simpsons_ages: \n",
    "     print (person)"
   ]
  },
  {
   "cell_type": "markdown",
   "metadata": {},
   "source": [
    "Use the `items` method to iterate over the key-value pairs of a dictionary."
   ]
  },
  {
   "cell_type": "code",
   "execution_count": 47,
   "metadata": {},
   "outputs": [
    {
     "name": "stdout",
     "output_type": "stream",
     "text": [
      "('Bart', 10)\n",
      "('Lisa', 8)\n",
      "('Homer', 'thirty something')\n",
      "('Marge', 34)\n",
      "('Alex', 22)\n",
      "('Mike', 27)\n"
     ]
    }
   ],
   "source": [
    "for item in simpsons_ages.items():\n",
    "     print (item)"
   ]
  },
  {
   "cell_type": "code",
   "execution_count": 48,
   "metadata": {},
   "outputs": [
    {
     "name": "stdout",
     "output_type": "stream",
     "text": [
      "Bart  is  10  years old\n",
      "Lisa  is  8  years old\n",
      "Homer  is  thirty something  years old\n",
      "Marge  is  34  years old\n",
      "Alex  is  22  years old\n",
      "Mike  is  27  years old\n"
     ]
    }
   ],
   "source": [
    "#Note that 'person' and 'age' here are arbitary variable names, and  can be replaced with any two names eg 'key' and 'value'\n",
    "for person, age in simpsons_ages.items():\n",
    "     print(person,\" is \", age, \" years old\")"
   ]
  },
  {
   "cell_type": "markdown",
   "metadata": {
    "collapsed": true
   },
   "source": [
    "### Exercise\n",
    "In the blank cell below make a new dictionary called `polygons` where the keys are names of shapes and the values are the corresponding number of sides."
   ]
  },
  {
   "cell_type": "code",
   "execution_count": 19,
   "metadata": {},
   "outputs": [
    {
     "data": {
      "text/plain": [
       "{'hexagon': 6, 'pentagon': 5, 'rectangle': 4, 'triangle': 3}"
      ]
     },
     "execution_count": 19,
     "metadata": {},
     "output_type": "execute_result"
    }
   ],
   "source": [
    "polygons = {\"triangle\": 3, \"rectangle\": 4, \"pentagon\": 5, \"hexagon\": 6}\n",
    "polygons"
   ]
  },
  {
   "cell_type": "code",
   "execution_count": null,
   "metadata": {
    "collapsed": true
   },
   "outputs": [],
   "source": [
    "# %load solutions//polygons\n",
    "polygons = {\"triangle\":3,\n",
    "            \"quadrilateral\":4,\n",
    "            \"pentagon\":5,\n",
    "            \"hexagon\":6,\n",
    "            \"heptagon\":7,\n",
    "            \"octagon\":8,\n",
    "            \"nonagon\":9,\n",
    "            \"decagon\":10,\n",
    "            \"hendecagon\":11,\n",
    "            \"dodecagon\":12}\n"
   ]
  },
  {
   "cell_type": "markdown",
   "metadata": {},
   "source": [
    "### Exercise\n",
    "In the blank cell below iterate over the keys and values, printing each key and value in a sentence (eg 'a triangle has 3 sides')."
   ]
  },
  {
   "cell_type": "code",
   "execution_count": 22,
   "metadata": {},
   "outputs": [
    {
     "name": "stdout",
     "output_type": "stream",
     "text": [
      "triangle has 3 sides.\n",
      "rectangle has 4 sides.\n",
      "pentagon has 5 sides.\n",
      "hexagon has 6 sides.\n"
     ]
    }
   ],
   "source": [
    "for shape, sides in polygons.items():\n",
    "    print(shape, \"has\", sides, \"sides.\")"
   ]
  },
  {
   "cell_type": "code",
   "execution_count": 57,
   "metadata": {},
   "outputs": [
    {
     "ename": "ValueError",
     "evalue": "'solutions//print_polygons' was not found in history, as a file, url, nor in the user namespace.",
     "output_type": "error",
     "traceback": [
      "\u001b[0;31m---------------------------------------------------------------------------\u001b[0m",
      "\u001b[0;31mNameError\u001b[0m                                 Traceback (most recent call last)",
      "\u001b[0;32mC:\\Anaconda3\\lib\\site-packages\\IPython\\core\\interactiveshell.py\u001b[0m in \u001b[0;36mfind_user_code\u001b[0;34m(self, target, raw, py_only, skip_encoding_cookie, search_ns)\u001b[0m\n\u001b[1;32m   3181\u001b[0m         \u001b[1;32mtry\u001b[0m\u001b[1;33m:\u001b[0m                                              \u001b[1;31m# User namespace\u001b[0m\u001b[1;33m\u001b[0m\u001b[0m\n\u001b[0;32m-> 3182\u001b[0;31m             \u001b[0mcodeobj\u001b[0m \u001b[1;33m=\u001b[0m \u001b[0meval\u001b[0m\u001b[1;33m(\u001b[0m\u001b[0mtarget\u001b[0m\u001b[1;33m,\u001b[0m \u001b[0mself\u001b[0m\u001b[1;33m.\u001b[0m\u001b[0muser_ns\u001b[0m\u001b[1;33m)\u001b[0m\u001b[1;33m\u001b[0m\u001b[0m\n\u001b[0m\u001b[1;32m   3183\u001b[0m         \u001b[1;32mexcept\u001b[0m \u001b[0mException\u001b[0m\u001b[1;33m:\u001b[0m\u001b[1;33m\u001b[0m\u001b[0m\n",
      "\u001b[0;32m<string>\u001b[0m in \u001b[0;36m<module>\u001b[0;34m()\u001b[0m\n",
      "\u001b[0;31mNameError\u001b[0m: name 'solutions' is not defined",
      "\nDuring handling of the above exception, another exception occurred:\n",
      "\u001b[0;31mValueError\u001b[0m                                Traceback (most recent call last)",
      "\u001b[0;32m<ipython-input-57-d61a15cd98b5>\u001b[0m in \u001b[0;36m<module>\u001b[0;34m()\u001b[0m\n\u001b[1;32m      1\u001b[0m \u001b[1;31m# uncomment the next line and then run the cell to load a solution\u001b[0m\u001b[1;33m\u001b[0m\u001b[1;33m\u001b[0m\u001b[0m\n\u001b[0;32m----> 2\u001b[0;31m \u001b[0mget_ipython\u001b[0m\u001b[1;33m(\u001b[0m\u001b[1;33m)\u001b[0m\u001b[1;33m.\u001b[0m\u001b[0mmagic\u001b[0m\u001b[1;33m(\u001b[0m\u001b[1;34m'load solutions//print_polygons'\u001b[0m\u001b[1;33m)\u001b[0m\u001b[1;33m\u001b[0m\u001b[0m\n\u001b[0m",
      "\u001b[0;32mC:\\Anaconda3\\lib\\site-packages\\IPython\\core\\interactiveshell.py\u001b[0m in \u001b[0;36mmagic\u001b[0;34m(self, arg_s)\u001b[0m\n\u001b[1;32m   2156\u001b[0m         \u001b[0mmagic_name\u001b[0m\u001b[1;33m,\u001b[0m \u001b[0m_\u001b[0m\u001b[1;33m,\u001b[0m \u001b[0mmagic_arg_s\u001b[0m \u001b[1;33m=\u001b[0m \u001b[0marg_s\u001b[0m\u001b[1;33m.\u001b[0m\u001b[0mpartition\u001b[0m\u001b[1;33m(\u001b[0m\u001b[1;34m' '\u001b[0m\u001b[1;33m)\u001b[0m\u001b[1;33m\u001b[0m\u001b[0m\n\u001b[1;32m   2157\u001b[0m         \u001b[0mmagic_name\u001b[0m \u001b[1;33m=\u001b[0m \u001b[0mmagic_name\u001b[0m\u001b[1;33m.\u001b[0m\u001b[0mlstrip\u001b[0m\u001b[1;33m(\u001b[0m\u001b[0mprefilter\u001b[0m\u001b[1;33m.\u001b[0m\u001b[0mESC_MAGIC\u001b[0m\u001b[1;33m)\u001b[0m\u001b[1;33m\u001b[0m\u001b[0m\n\u001b[0;32m-> 2158\u001b[0;31m         \u001b[1;32mreturn\u001b[0m \u001b[0mself\u001b[0m\u001b[1;33m.\u001b[0m\u001b[0mrun_line_magic\u001b[0m\u001b[1;33m(\u001b[0m\u001b[0mmagic_name\u001b[0m\u001b[1;33m,\u001b[0m \u001b[0mmagic_arg_s\u001b[0m\u001b[1;33m)\u001b[0m\u001b[1;33m\u001b[0m\u001b[0m\n\u001b[0m\u001b[1;32m   2159\u001b[0m \u001b[1;33m\u001b[0m\u001b[0m\n\u001b[1;32m   2160\u001b[0m     \u001b[1;31m#-------------------------------------------------------------------------\u001b[0m\u001b[1;33m\u001b[0m\u001b[1;33m\u001b[0m\u001b[0m\n",
      "\u001b[0;32mC:\\Anaconda3\\lib\\site-packages\\IPython\\core\\interactiveshell.py\u001b[0m in \u001b[0;36mrun_line_magic\u001b[0;34m(self, magic_name, line)\u001b[0m\n\u001b[1;32m   2077\u001b[0m                 \u001b[0mkwargs\u001b[0m\u001b[1;33m[\u001b[0m\u001b[1;34m'local_ns'\u001b[0m\u001b[1;33m]\u001b[0m \u001b[1;33m=\u001b[0m \u001b[0msys\u001b[0m\u001b[1;33m.\u001b[0m\u001b[0m_getframe\u001b[0m\u001b[1;33m(\u001b[0m\u001b[0mstack_depth\u001b[0m\u001b[1;33m)\u001b[0m\u001b[1;33m.\u001b[0m\u001b[0mf_locals\u001b[0m\u001b[1;33m\u001b[0m\u001b[0m\n\u001b[1;32m   2078\u001b[0m             \u001b[1;32mwith\u001b[0m \u001b[0mself\u001b[0m\u001b[1;33m.\u001b[0m\u001b[0mbuiltin_trap\u001b[0m\u001b[1;33m:\u001b[0m\u001b[1;33m\u001b[0m\u001b[0m\n\u001b[0;32m-> 2079\u001b[0;31m                 \u001b[0mresult\u001b[0m \u001b[1;33m=\u001b[0m \u001b[0mfn\u001b[0m\u001b[1;33m(\u001b[0m\u001b[1;33m*\u001b[0m\u001b[0margs\u001b[0m\u001b[1;33m,\u001b[0m\u001b[1;33m**\u001b[0m\u001b[0mkwargs\u001b[0m\u001b[1;33m)\u001b[0m\u001b[1;33m\u001b[0m\u001b[0m\n\u001b[0m\u001b[1;32m   2080\u001b[0m             \u001b[1;32mreturn\u001b[0m \u001b[0mresult\u001b[0m\u001b[1;33m\u001b[0m\u001b[0m\n\u001b[1;32m   2081\u001b[0m \u001b[1;33m\u001b[0m\u001b[0m\n",
      "\u001b[0;32m<decorator-gen-46>\u001b[0m in \u001b[0;36mload\u001b[0;34m(self, arg_s)\u001b[0m\n",
      "\u001b[0;32mC:\\Anaconda3\\lib\\site-packages\\IPython\\core\\magic.py\u001b[0m in \u001b[0;36m<lambda>\u001b[0;34m(f, *a, **k)\u001b[0m\n\u001b[1;32m    186\u001b[0m     \u001b[1;31m# but it's overkill for just that one bit of state.\u001b[0m\u001b[1;33m\u001b[0m\u001b[1;33m\u001b[0m\u001b[0m\n\u001b[1;32m    187\u001b[0m     \u001b[1;32mdef\u001b[0m \u001b[0mmagic_deco\u001b[0m\u001b[1;33m(\u001b[0m\u001b[0marg\u001b[0m\u001b[1;33m)\u001b[0m\u001b[1;33m:\u001b[0m\u001b[1;33m\u001b[0m\u001b[0m\n\u001b[0;32m--> 188\u001b[0;31m         \u001b[0mcall\u001b[0m \u001b[1;33m=\u001b[0m \u001b[1;32mlambda\u001b[0m \u001b[0mf\u001b[0m\u001b[1;33m,\u001b[0m \u001b[1;33m*\u001b[0m\u001b[0ma\u001b[0m\u001b[1;33m,\u001b[0m \u001b[1;33m**\u001b[0m\u001b[0mk\u001b[0m\u001b[1;33m:\u001b[0m \u001b[0mf\u001b[0m\u001b[1;33m(\u001b[0m\u001b[1;33m*\u001b[0m\u001b[0ma\u001b[0m\u001b[1;33m,\u001b[0m \u001b[1;33m**\u001b[0m\u001b[0mk\u001b[0m\u001b[1;33m)\u001b[0m\u001b[1;33m\u001b[0m\u001b[0m\n\u001b[0m\u001b[1;32m    189\u001b[0m \u001b[1;33m\u001b[0m\u001b[0m\n\u001b[1;32m    190\u001b[0m         \u001b[1;32mif\u001b[0m \u001b[0mcallable\u001b[0m\u001b[1;33m(\u001b[0m\u001b[0marg\u001b[0m\u001b[1;33m)\u001b[0m\u001b[1;33m:\u001b[0m\u001b[1;33m\u001b[0m\u001b[0m\n",
      "\u001b[0;32mC:\\Anaconda3\\lib\\site-packages\\IPython\\core\\magics\\code.py\u001b[0m in \u001b[0;36mload\u001b[0;34m(self, arg_s)\u001b[0m\n\u001b[1;32m    348\u001b[0m         \u001b[0msearch_ns\u001b[0m \u001b[1;33m=\u001b[0m \u001b[1;34m'n'\u001b[0m \u001b[1;32min\u001b[0m \u001b[0mopts\u001b[0m\u001b[1;33m\u001b[0m\u001b[0m\n\u001b[1;32m    349\u001b[0m \u001b[1;33m\u001b[0m\u001b[0m\n\u001b[0;32m--> 350\u001b[0;31m         \u001b[0mcontents\u001b[0m \u001b[1;33m=\u001b[0m \u001b[0mself\u001b[0m\u001b[1;33m.\u001b[0m\u001b[0mshell\u001b[0m\u001b[1;33m.\u001b[0m\u001b[0mfind_user_code\u001b[0m\u001b[1;33m(\u001b[0m\u001b[0margs\u001b[0m\u001b[1;33m,\u001b[0m \u001b[0msearch_ns\u001b[0m\u001b[1;33m=\u001b[0m\u001b[0msearch_ns\u001b[0m\u001b[1;33m)\u001b[0m\u001b[1;33m\u001b[0m\u001b[0m\n\u001b[0m\u001b[1;32m    351\u001b[0m \u001b[1;33m\u001b[0m\u001b[0m\n\u001b[1;32m    352\u001b[0m         \u001b[1;32mif\u001b[0m \u001b[1;34m's'\u001b[0m \u001b[1;32min\u001b[0m \u001b[0mopts\u001b[0m\u001b[1;33m:\u001b[0m\u001b[1;33m\u001b[0m\u001b[0m\n",
      "\u001b[0;32mC:\\Anaconda3\\lib\\site-packages\\IPython\\core\\interactiveshell.py\u001b[0m in \u001b[0;36mfind_user_code\u001b[0;34m(self, target, raw, py_only, skip_encoding_cookie, search_ns)\u001b[0m\n\u001b[1;32m   3183\u001b[0m         \u001b[1;32mexcept\u001b[0m \u001b[0mException\u001b[0m\u001b[1;33m:\u001b[0m\u001b[1;33m\u001b[0m\u001b[0m\n\u001b[1;32m   3184\u001b[0m             raise ValueError((\"'%s' was not found in history, as a file, url, \"\n\u001b[0;32m-> 3185\u001b[0;31m                                 \"nor in the user namespace.\") % target)\n\u001b[0m\u001b[1;32m   3186\u001b[0m \u001b[1;33m\u001b[0m\u001b[0m\n\u001b[1;32m   3187\u001b[0m         \u001b[1;32mif\u001b[0m \u001b[0misinstance\u001b[0m\u001b[1;33m(\u001b[0m\u001b[0mcodeobj\u001b[0m\u001b[1;33m,\u001b[0m \u001b[0mstring_types\u001b[0m\u001b[1;33m)\u001b[0m\u001b[1;33m:\u001b[0m\u001b[1;33m\u001b[0m\u001b[0m\n",
      "\u001b[0;31mValueError\u001b[0m: 'solutions//print_polygons' was not found in history, as a file, url, nor in the user namespace."
     ]
    }
   ],
   "source": [
    "# uncomment the next line and then run the cell to load a solution\n",
    "%load solutions//print_polygons"
   ]
  },
  {
   "cell_type": "markdown",
   "metadata": {},
   "source": [
    "### Exercise\n",
    "In the empty cell below write code that will print, one word per line, each word in `dickens_words` together with the number of times that word appears in `dickens_words`."
   ]
  },
  {
   "cell_type": "code",
   "execution_count": 21,
   "metadata": {},
   "outputs": [
    {
     "name": "stdout",
     "output_type": "stream",
     "text": [
      "The word It occured 1 time(s)\n",
      "The word was occured 2 time(s)\n",
      "The word the occured 2 time(s)\n",
      "The word best occured 1 time(s)\n",
      "The word of occured 2 time(s)\n",
      "The word times occured 2 time(s)\n",
      "The word it occured 1 time(s)\n",
      "The word worst occured 1 time(s)\n"
     ]
    }
   ],
   "source": [
    "dickens_words = \"It was the best of times it was the worst of times\"\n",
    "dickens_dict = {}\n",
    "for word in dickens_words.split():\n",
    "    count = 0\n",
    "    for wrd in dickens_words.split():\n",
    "        if word == wrd:\n",
    "            count += 1\n",
    "            dickens_dict[word] = count\n",
    "for k, v in dickens_dict.items():\n",
    "    print(\"The word\", k, \"occured\", v, \"time(s)\")"
   ]
  },
  {
   "cell_type": "code",
   "execution_count": 15,
   "metadata": {},
   "outputs": [],
   "source": [
    "# %load solutions//print_dickens_counts\n",
    "           \n"
   ]
  },
  {
   "cell_type": "markdown",
   "metadata": {},
   "source": [
    "## Files\n",
    "Files have a file path and in the cell below we use the variable `input_file_path` to hold a string that contains a file path."
   ]
  },
  {
   "cell_type": "code",
   "execution_count": 46,
   "metadata": {
    "collapsed": true
   },
   "outputs": [],
   "source": [
    "#Make sure the file path points to a valid file\n",
    "#input_file_path = \"N:/nle_notebooks/sample_text.txt\"\n",
    "input_file_path = \"/Documents/NLE/NLE Notebooks/Topic 0/sample_text.txt\""
   ]
  },
  {
   "cell_type": "markdown",
   "metadata": {},
   "source": [
    "We now use the file path variable to *open* the file. We need to do this before reading/writing to it."
   ]
  },
  {
   "cell_type": "code",
   "execution_count": 21,
   "metadata": {},
   "outputs": [
    {
     "data": {
      "text/plain": [
       "_io.TextIOWrapper"
      ]
     },
     "execution_count": 21,
     "metadata": {},
     "output_type": "execute_result"
    }
   ],
   "source": [
    "input_file = open(input_file_path)\n",
    "type(input_file)"
   ]
  },
  {
   "cell_type": "markdown",
   "metadata": {},
   "source": [
    "Use the `read` command to read the entire file contents into a `str` variable called `input_text`."
   ]
  },
  {
   "cell_type": "code",
   "execution_count": 22,
   "metadata": {},
   "outputs": [
    {
     "data": {
      "text/plain": [
       "str"
      ]
     },
     "execution_count": 22,
     "metadata": {},
     "output_type": "execute_result"
    }
   ],
   "source": [
    "input_text = input_file.read()\n",
    "type(input_text)"
   ]
  },
  {
   "cell_type": "code",
   "execution_count": 23,
   "metadata": {},
   "outputs": [
    {
     "data": {
      "text/plain": [
       "'This is some sample text. Feel free to replace it with something more interesting!'"
      ]
     },
     "execution_count": 23,
     "metadata": {},
     "output_type": "execute_result"
    }
   ],
   "source": [
    "input_text"
   ]
  },
  {
   "cell_type": "markdown",
   "metadata": {},
   "source": [
    "When you are done with the file, close it."
   ]
  },
  {
   "cell_type": "code",
   "execution_count": 24,
   "metadata": {
    "collapsed": true
   },
   "outputs": [],
   "source": [
    "input_file.close()"
   ]
  },
  {
   "cell_type": "markdown",
   "metadata": {},
   "source": [
    "After the file has been closed it cannot be read any more."
   ]
  },
  {
   "cell_type": "code",
   "execution_count": 25,
   "metadata": {},
   "outputs": [
    {
     "ename": "ValueError",
     "evalue": "I/O operation on closed file.",
     "output_type": "error",
     "traceback": [
      "\u001b[0;31m---------------------------------------------------------------------------\u001b[0m",
      "\u001b[0;31mValueError\u001b[0m                                Traceback (most recent call last)",
      "\u001b[0;32m<ipython-input-25-f6e6e321a89e>\u001b[0m in \u001b[0;36m<module>\u001b[0;34m()\u001b[0m\n\u001b[0;32m----> 1\u001b[0;31m \u001b[0minput_text\u001b[0m \u001b[1;33m=\u001b[0m \u001b[0minput_file\u001b[0m\u001b[1;33m.\u001b[0m\u001b[0mread\u001b[0m\u001b[1;33m(\u001b[0m\u001b[1;33m)\u001b[0m\u001b[1;33m\u001b[0m\u001b[0m\n\u001b[0m",
      "\u001b[0;31mValueError\u001b[0m: I/O operation on closed file."
     ]
    }
   ],
   "source": [
    "input_text = input_file.read()"
   ]
  },
  {
   "cell_type": "markdown",
   "metadata": {},
   "source": [
    "### Exercise\n",
    "In the blank cell below write a function, `print__word_counts` that will take a file path as an argument, open the file, then print, one word per line, each word in the file together with the number of times that word appears in the file. \n",
    "\n",
    "Test your function by running it on the `sample_text.txt`."
   ]
  },
  {
   "cell_type": "code",
   "execution_count": 54,
   "metadata": {},
   "outputs": [
    {
     "name": "stdout",
     "output_type": "stream",
     "text": [
      "This : 1\n",
      "is : 1\n",
      "some : 1\n",
      "sample : 1\n",
      "text. : 1\n",
      "Feel : 1\n",
      "free : 1\n",
      "to : 1\n",
      "replace : 1\n",
      "it : 1\n",
      "with : 1\n",
      "something : 1\n",
      "more : 1\n",
      "interesting! : 1\n"
     ]
    }
   ],
   "source": [
    "def print_word_counts(file_path):\n",
    "    file = open(input_file_path)\n",
    "    text = file.read()\n",
    "    d = {}\n",
    "    for word in text.split():\n",
    "        cnt = 0\n",
    "        for wrd in text.split():\n",
    "            if word == wrd:\n",
    "                cnt += 1\n",
    "                d[word] = cnt                                \n",
    "            else:\n",
    "                d[word] = cnt\n",
    "                \n",
    "    for word, count in d.items():\n",
    "        print(word, \":\", count)\n",
    "                \n",
    "print_word_counts(input_file_path)"
   ]
  },
  {
   "cell_type": "code",
   "execution_count": null,
   "metadata": {
    "collapsed": true
   },
   "outputs": [],
   "source": [
    "# %load solutions//print_word_counts\n",
    "def print_word_counts(filepath):\n",
    "    input_file_path = filepath\n",
    "    input_file = open(input_file_path)\n",
    "    input_text = input_file.read()\n",
    "    word_counts = collections.defaultdict(int)\n",
    "    for word in input_text.split():\n",
    "        word_counts[word] += 1\n",
    "    for word, count in word_counts.items():\n",
    "        if count == 1:\n",
    "            print('The word \"{0}\" occurred once.'.format(word))\n",
    "        else:\n",
    "            print('The word \"{0}\" occurred {1} times.'.format(word,count))\n",
    "           \n",
    "\n",
    "print_word_counts(\"/Users/davidw/Documents/teach/NLE/NLE Notebooks/Topic 0/sample_text.txt\")\n"
   ]
  },
  {
   "cell_type": "markdown",
   "metadata": {},
   "source": [
    "## Tuples\n",
    "\n",
    "A tuple consists of a number of values separated by commas. These can be different types. It is initialised with parentheses, containing its objects separated by commas."
   ]
  },
  {
   "cell_type": "code",
   "execution_count": 37,
   "metadata": {},
   "outputs": [
    {
     "data": {
      "text/plain": [
       "('Jon', 14, 'jon@thewall.com')"
      ]
     },
     "execution_count": 37,
     "metadata": {},
     "output_type": "execute_result"
    }
   ],
   "source": [
    "person = (\"Jon\", 14, \"jon@thewall.com\")\n",
    "person"
   ]
  },
  {
   "cell_type": "code",
   "execution_count": 38,
   "metadata": {},
   "outputs": [
    {
     "data": {
      "text/plain": [
       "tuple"
      ]
     },
     "execution_count": 38,
     "metadata": {},
     "output_type": "execute_result"
    }
   ],
   "source": [
    "type(person)"
   ]
  },
  {
   "cell_type": "markdown",
   "metadata": {},
   "source": [
    "Use `len` to count the number of elements in a tuple."
   ]
  },
  {
   "cell_type": "code",
   "execution_count": 39,
   "metadata": {},
   "outputs": [
    {
     "data": {
      "text/plain": [
       "3"
      ]
     },
     "execution_count": 39,
     "metadata": {},
     "output_type": "execute_result"
    }
   ],
   "source": [
    "len(person)"
   ]
  },
  {
   "cell_type": "markdown",
   "metadata": {},
   "source": [
    "Indexing into a tuple is similarly to indexing into a list."
   ]
  },
  {
   "cell_type": "code",
   "execution_count": 40,
   "metadata": {},
   "outputs": [
    {
     "data": {
      "text/plain": [
       "'Jon'"
      ]
     },
     "execution_count": 40,
     "metadata": {},
     "output_type": "execute_result"
    }
   ],
   "source": [
    "person[0]"
   ]
  },
  {
   "cell_type": "code",
   "execution_count": 41,
   "metadata": {},
   "outputs": [
    {
     "data": {
      "text/plain": [
       "(14, 'jon@thewall.com')"
      ]
     },
     "execution_count": 41,
     "metadata": {},
     "output_type": "execute_result"
    }
   ],
   "source": [
    "person[-2:]"
   ]
  },
  {
   "cell_type": "markdown",
   "metadata": {},
   "source": [
    "It can be useful to use tuples as values in dictionaries."
   ]
  },
  {
   "cell_type": "code",
   "execution_count": 42,
   "metadata": {},
   "outputs": [
    {
     "data": {
      "text/plain": [
       "(12, 'Baratheon', 'joff@kingslanding.com')"
      ]
     },
     "execution_count": 42,
     "metadata": {},
     "output_type": "execute_result"
    }
   ],
   "source": [
    "#Note that each key is a string, and each value is a tuple\n",
    "people = {\"Joffrey\":(12, \"Baratheon\", \"joff@kingslanding.com\"), \"Jon\":(14, \"Snow\", \"jon@thewall.com\")}\n",
    "people[\"Joffrey\"]"
   ]
  },
  {
   "cell_type": "code",
   "execution_count": 43,
   "metadata": {},
   "outputs": [
    {
     "data": {
      "text/plain": [
       "14"
      ]
     },
     "execution_count": 43,
     "metadata": {},
     "output_type": "execute_result"
    }
   ],
   "source": [
    "### Jon's age - we access this using the dictionary key, and then indexing within the value:\n",
    "people[\"Jon\"][0]"
   ]
  },
  {
   "cell_type": "code",
   "execution_count": 44,
   "metadata": {},
   "outputs": [
    {
     "data": {
      "text/plain": [
       "'joff@kingslanding.com'"
      ]
     },
     "execution_count": 44,
     "metadata": {},
     "output_type": "execute_result"
    }
   ],
   "source": [
    "### Joffrey's email\n",
    "people[\"Joffrey\"][2]"
   ]
  },
  {
   "cell_type": "code",
   "execution_count": 45,
   "metadata": {},
   "outputs": [
    {
     "name": "stdout",
     "output_type": "stream",
     "text": [
      "Joffrey Baratheon\n",
      "Jon Snow\n"
     ]
    }
   ],
   "source": [
    "#  list everyone's first and last names:\n",
    "for person, record in people.items():\n",
    "     print (person, record[1])"
   ]
  },
  {
   "cell_type": "markdown",
   "metadata": {},
   "source": [
    "### Exercise\n",
    "In the blank cell below create a dictionary called `address_book`, with at least 3 key-value entries. Each should consist of a person's name in string format (the key), and a tuple with corresponding pieces of information about them (the value).\n",
    "\n",
    "Once you've done that, iterate over the address book, printing information about each person into a sentence."
   ]
  },
  {
   "cell_type": "code",
   "execution_count": 47,
   "metadata": {},
   "outputs": [
    {
     "name": "stdout",
     "output_type": "stream",
     "text": [
      "Alexo studies CompSci and is 22 y.o.\n",
      "Monty studies DigMedia and is 20 y.o.\n",
      "Dominizi studies GAME and is 19 y.o.\n"
     ]
    }
   ],
   "source": [
    "address_book = {\"Alexo\": (22, \"CompSci\"), \"Monty\": (20, \"DigMedia\"), \"Dominizi\": (19, \"GAME\")}\n",
    "for person, info in address_book.items():\n",
    "    print(person, \"studies\", info[1], \"and is\", info[0], \"y.o.\")"
   ]
  },
  {
   "cell_type": "code",
   "execution_count": null,
   "metadata": {
    "collapsed": true
   },
   "outputs": [],
   "source": [
    "# uncomment the next line and then run the cell to load a solution\n",
    "%load solutions//prime_ministers"
   ]
  },
  {
   "cell_type": "markdown",
   "metadata": {},
   "source": [
    "### Exercise\n",
    "Make sure that you understand the code in the following cell. It calculates the number of sentences in each paragraph of a text. \n",
    "\n",
    "Can you see where tuples are being used?"
   ]
  },
  {
   "cell_type": "code",
   "execution_count": 23,
   "metadata": {},
   "outputs": [
    {
     "name": "stdout",
     "output_type": "stream",
     "text": [
      "This is a sample sentence01 showing 7 different token types: alphabetic, numeric, alphanumeric, Title, UPPERCASE, CamelCase and punctuation!\n",
      "Sentences like that should not exist. They're too artificial.\n",
      "A REAL sentence looks different. It has flavour to it. You can smell it; it's like Pythonic code, you know?\n",
      "Have you heard of 'code smell'? Google it if you haven't.\n",
      "paragraph 1 contains 1 sentence(s)\n",
      "paragraph 2 contains 2 sentence(s)\n",
      "paragraph 3 contains 3 sentence(s)\n",
      "paragraph 4 contains 1 sentence(s)\n"
     ]
    }
   ],
   "source": [
    "def count_sentences_per_paragraph(input_text):\n",
    "    \"\"\"\n",
    "    Given an input text:\n",
    "     - assign a number to each paragraph,\n",
    "     - count the number of sentences in each paragraph,\n",
    "     - output a list of all paragraph numbers together\n",
    "       with the number of sentences in it.\n",
    "\n",
    "    :param input_text: A character string possibly containing\n",
    "                        periods \".\" to separate sentences and\n",
    "                        paragraph marks \"\\n\" to separate\n",
    "                        paragraphs.\n",
    "    :return: A list of ordered pairs (tuples) where the first\n",
    "            element of the pair is the paragraph number and\n",
    "            the second element is the number of sentences in\n",
    "            that paragraph.\n",
    "            Sample output: [(0, 1), (1, 3), (2, 3), (3, 1)]\n",
    "    \"\"\"\n",
    "    \n",
    "    paragraphs = input_text.split(\"\\n\")\n",
    "    sentences_per_paragraph = list()  # create an empty list\n",
    "    paragraph_number = 0\n",
    "    for paragraph in paragraphs:\n",
    "        paragraph_number += 1\n",
    "        sentences = paragraph.split(\". \")\n",
    "        number_of_sentences = len(sentences)\n",
    "        \n",
    "        # create a tuple with the paragraph number and the number of sentences\n",
    "        # in it, then append the tuple to the list:\n",
    "        \n",
    "        sentences_per_paragraph.append((paragraph_number, number_of_sentences))\n",
    "    return sentences_per_paragraph\n",
    "\n",
    "\n",
    "print (sample_text)\n",
    "for para, count in count_sentences_per_paragraph(sample_text):\n",
    "    print(\"paragraph {0} contains {1} sentence(s)\".format(para,count))"
   ]
  },
  {
   "cell_type": "markdown",
   "metadata": {},
   "source": [
    "## The range function\n",
    "\n",
    "This produces a generator of numbers in a specified range."
   ]
  },
  {
   "cell_type": "code",
   "execution_count": 2,
   "metadata": {},
   "outputs": [
    {
     "data": {
      "text/plain": [
       "range(0, 5)"
      ]
     },
     "execution_count": 2,
     "metadata": {},
     "output_type": "execute_result"
    }
   ],
   "source": [
    "indices = range(0,5)\n",
    "indices"
   ]
  },
  {
   "cell_type": "code",
   "execution_count": 3,
   "metadata": {},
   "outputs": [
    {
     "data": {
      "text/plain": [
       "range"
      ]
     },
     "execution_count": 3,
     "metadata": {},
     "output_type": "execute_result"
    }
   ],
   "source": [
    "type(indices)"
   ]
  },
  {
   "cell_type": "code",
   "execution_count": 4,
   "metadata": {},
   "outputs": [
    {
     "data": {
      "text/plain": [
       "5"
      ]
     },
     "execution_count": 4,
     "metadata": {},
     "output_type": "execute_result"
    }
   ],
   "source": [
    "len(indices)"
   ]
  },
  {
   "cell_type": "markdown",
   "metadata": {},
   "source": [
    "The output from a `range` can be used as a set of indices."
   ]
  },
  {
   "cell_type": "code",
   "execution_count": 6,
   "metadata": {},
   "outputs": [
    {
     "ename": "NameError",
     "evalue": "name 'dickens_words' is not defined",
     "output_type": "error",
     "traceback": [
      "\u001b[0;31m---------------------------------------------------------------------------\u001b[0m",
      "\u001b[0;31mNameError\u001b[0m                                 Traceback (most recent call last)",
      "\u001b[0;32m<ipython-input-6-079046cf28c2>\u001b[0m in \u001b[0;36m<module>\u001b[0;34m()\u001b[0m\n\u001b[1;32m      1\u001b[0m \u001b[1;32mfor\u001b[0m \u001b[0mi\u001b[0m \u001b[1;32min\u001b[0m \u001b[0mindices\u001b[0m\u001b[1;33m:\u001b[0m\u001b[1;33m\u001b[0m\u001b[0m\n\u001b[0;32m----> 2\u001b[0;31m     \u001b[0mprint\u001b[0m \u001b[1;33m(\u001b[0m\u001b[0mdickens_words\u001b[0m\u001b[1;33m[\u001b[0m\u001b[0mi\u001b[0m\u001b[1;33m]\u001b[0m\u001b[1;33m)\u001b[0m\u001b[1;33m\u001b[0m\u001b[0m\n\u001b[0m",
      "\u001b[0;31mNameError\u001b[0m: name 'dickens_words' is not defined"
     ]
    }
   ],
   "source": [
    "for i in indices:\n",
    "    print (words[i])"
   ]
  },
  {
   "cell_type": "markdown",
   "metadata": {},
   "source": [
    "If `range` is given a single parameter, it will create a range from zero."
   ]
  },
  {
   "cell_type": "code",
   "execution_count": 8,
   "metadata": {},
   "outputs": [
    {
     "name": "stdout",
     "output_type": "stream",
     "text": [
      "0\n",
      "1\n",
      "2\n",
      "3\n",
      "4\n",
      "5\n",
      "6\n",
      "7\n",
      "8\n",
      "9\n"
     ]
    }
   ],
   "source": [
    "for i in range(10):\n",
    "    print (i)"
   ]
  },
  {
   "cell_type": "markdown",
   "metadata": {},
   "source": [
    "### Exercise\n",
    "In the blank cell below use `range` to print a list of the first 10 integers."
   ]
  },
  {
   "cell_type": "code",
   "execution_count": 10,
   "metadata": {},
   "outputs": [
    {
     "name": "stdout",
     "output_type": "stream",
     "text": [
      "1\n",
      "2\n",
      "3\n",
      "4\n",
      "5\n",
      "6\n",
      "7\n",
      "8\n",
      "9\n",
      "10\n"
     ]
    }
   ],
   "source": [
    "for i in range(1,11):\n",
    "    print(i)"
   ]
  },
  {
   "cell_type": "code",
   "execution_count": 12,
   "metadata": {},
   "outputs": [
    {
     "data": {
      "text/plain": [
       "[0, 1, 2, 3, 4, 5, 6, 7, 8, 9]"
      ]
     },
     "execution_count": 12,
     "metadata": {},
     "output_type": "execute_result"
    }
   ],
   "source": [
    "# %load solutions//first_ten_ints\n",
    "integers = []\n",
    "for i in range(10):\n",
    "    integers.append(i)\n",
    "    \n",
    "integers\n"
   ]
  },
  {
   "cell_type": "markdown",
   "metadata": {},
   "source": [
    "### Exercise\n",
    "In the cell below use `range` to print a list of the first 10 cubes."
   ]
  },
  {
   "cell_type": "code",
   "execution_count": 13,
   "metadata": {},
   "outputs": [
    {
     "data": {
      "text/plain": [
       "[0, 1, 8, 27, 64, 125, 216, 343, 512, 729]"
      ]
     },
     "execution_count": 13,
     "metadata": {},
     "output_type": "execute_result"
    }
   ],
   "source": [
    "cubes = []\n",
    "for i in range(10):\n",
    "    cubes.append(i**3)\n",
    "    \n",
    "cubes"
   ]
  },
  {
   "cell_type": "code",
   "execution_count": null,
   "metadata": {
    "collapsed": true
   },
   "outputs": [],
   "source": [
    "# %load solutions//first_ten_cubes\n",
    "cubes = []\n",
    "for i in range(10):\n",
    "    cubes.append(i**3)\n",
    "    \n",
    "cubes\n"
   ]
  },
  {
   "cell_type": "markdown",
   "metadata": {},
   "source": [
    "## The zip function\n",
    "\n",
    "The zip function is used to pair up the corresponding elements between multiple iterables. \n",
    "\n",
    "It takes multiple iterables as arguments, and returns a list of tuples where the i-th tuple consists of the i-th element from each of the input iterables.\n",
    "\n",
    "In the example below, we 'zip together' `words` and `indices` into a series of tuples called `word_positions`. For example, the 3rd element of `word_positions` contains the 3rd element of `words` and the 3rd element of `indices`."
   ]
  },
  {
   "cell_type": "code",
   "execution_count": 15,
   "metadata": {},
   "outputs": [
    {
     "data": {
      "text/plain": [
       "zip"
      ]
     },
     "execution_count": 15,
     "metadata": {},
     "output_type": "execute_result"
    }
   ],
   "source": [
    "words = 'It was the best of times, it was the worst of times'.split()\n",
    "indices = range(len(words))\n",
    "word_positions = zip(words, indices)\n",
    "type(word_positions)"
   ]
  },
  {
   "cell_type": "code",
   "execution_count": 16,
   "metadata": {},
   "outputs": [
    {
     "name": "stdout",
     "output_type": "stream",
     "text": [
      "'It' is in position 0\n",
      "'was' is in position 1\n",
      "'the' is in position 2\n",
      "'best' is in position 3\n",
      "'of' is in position 4\n",
      "'times,' is in position 5\n",
      "'it' is in position 6\n",
      "'was' is in position 7\n",
      "'the' is in position 8\n",
      "'worst' is in position 9\n",
      "'of' is in position 10\n",
      "'times' is in position 11\n"
     ]
    }
   ],
   "source": [
    "for word, position in word_positions:\n",
    "    print(\"'{0}' is in position {1}\".format(word,position))\n"
   ]
  },
  {
   "cell_type": "markdown",
   "metadata": {},
   "source": [
    "### Exercise\n",
    "In the blank cell below write a function, `show_word_positions` that takes a filepath as its argument. The funciton should read the text from the file, split the text on whitespace, and then print out each word and its position as in the above example.\n",
    "\n",
    "Test your function out on `sample_text.txt`."
   ]
  },
  {
   "cell_type": "code",
   "execution_count": 5,
   "metadata": {},
   "outputs": [
    {
     "name": "stdout",
     "output_type": "stream",
     "text": [
      "| This | is in position 0\n",
      "| is | is in position 1\n",
      "| some | is in position 2\n",
      "| sample | is in position 3\n",
      "| text. | is in position 4\n",
      "| Feel | is in position 5\n",
      "| free | is in position 6\n",
      "| to | is in position 7\n",
      "| replace | is in position 8\n",
      "| it | is in position 9\n",
      "| with | is in position 10\n",
      "| something | is in position 11\n",
      "| more | is in position 12\n",
      "| interesting! | is in position 13\n"
     ]
    }
   ],
   "source": [
    "def show_word_positions(file_path):\n",
    "    file = open(file_path)\n",
    "    text = file.read()\n",
    "    words = text.split()\n",
    "    positions = zip(words, range(len(words)))\n",
    "    for word, position in positions:\n",
    "        print(\"|\", word, \"|\", \"is in position\", position)\n",
    "        \n",
    "show_word_positions(\"/Documents/NLE/NLE Notebooks/Topic 0/sample_text.txt\")\n"
   ]
  },
  {
   "cell_type": "code",
   "execution_count": null,
   "metadata": {
    "collapsed": true
   },
   "outputs": [],
   "source": [
    "# %load solutions//show_word_positions\n",
    "def show_word_positions(filepath):\n",
    "    input_file_path = filepath\n",
    "    input_file = open(input_file_path)\n",
    "    input_text = input_file.read()\n",
    "    word_list = input_text.split()\n",
    "    for word, position in zip(word_list,range(len(word_list))):\n",
    "        print(\"'{0}' is in position {1}\".format(word,position))\n",
    "           \n",
    "\n",
    "show_word_positions(\"/Users/davidw/Documents/teach/NLE/NLE Notebooks/Topic 0/sample_text.txt\")\n"
   ]
  },
  {
   "cell_type": "markdown",
   "metadata": {},
   "source": [
    "The cell below contains a new version of the code that calculates the number of sentences in each paragraph of a text. \n",
    "\n",
    "This versions makes use `range` and `zip`.    "
   ]
  },
  {
   "cell_type": "code",
   "execution_count": 6,
   "metadata": {},
   "outputs": [
    {
     "ename": "NameError",
     "evalue": "name 'sample_text' is not defined",
     "output_type": "error",
     "traceback": [
      "\u001b[1;31m---------------------------------------------------------------------------\u001b[0m",
      "\u001b[1;31mNameError\u001b[0m                                 Traceback (most recent call last)",
      "\u001b[1;32m<ipython-input-6-9694b2c5d1df>\u001b[0m in \u001b[0;36m<module>\u001b[1;34m()\u001b[0m\n\u001b[0;32m     44\u001b[0m     \u001b[1;32mreturn\u001b[0m \u001b[0mlen\u001b[0m\u001b[1;33m(\u001b[0m\u001b[0msentences\u001b[0m\u001b[1;33m)\u001b[0m\u001b[1;33m\u001b[0m\u001b[0m\n\u001b[0;32m     45\u001b[0m \u001b[1;33m\u001b[0m\u001b[0m\n\u001b[1;32m---> 46\u001b[1;33m \u001b[1;32mfor\u001b[0m \u001b[0mpara\u001b[0m\u001b[1;33m,\u001b[0m \u001b[0mcount\u001b[0m \u001b[1;32min\u001b[0m \u001b[0mcount_sentences_per_paragraph\u001b[0m\u001b[1;33m(\u001b[0m\u001b[0msample_text\u001b[0m\u001b[1;33m)\u001b[0m\u001b[1;33m:\u001b[0m\u001b[1;33m\u001b[0m\u001b[0m\n\u001b[0m\u001b[0;32m     47\u001b[0m     \u001b[0mprint\u001b[0m\u001b[1;33m(\u001b[0m\u001b[1;34m\"paragraph {0} contains {1} sentence(s)\"\u001b[0m\u001b[1;33m.\u001b[0m\u001b[0mformat\u001b[0m\u001b[1;33m(\u001b[0m\u001b[0mpara\u001b[0m\u001b[1;33m,\u001b[0m\u001b[0mcount\u001b[0m\u001b[1;33m)\u001b[0m\u001b[1;33m)\u001b[0m\u001b[1;33m\u001b[0m\u001b[0m\n",
      "\u001b[1;31mNameError\u001b[0m: name 'sample_text' is not defined"
     ]
    }
   ],
   "source": [
    "def count_sentences_per_paragraph(input_text):\n",
    "    \"\"\"\n",
    "    Given an input text:\n",
    "     - assign a number to each paragraph,\n",
    "     - count the number of sentences in each paragraph,\n",
    "     - output a list of all paragraph numbers together\n",
    "       with the number of senfor a,b in enumerate(['The','Holy','Grail']): print a,btences in it.\n",
    "\n",
    "    :param input_text: A character string possibly containing\n",
    "                        periods \".\" to separate sentences and\n",
    "                        paragraph marks \"\\n\" to separate\n",
    "                        paragraphs.\n",
    "    :return: A list of ordered pairs (tuples) where the first\n",
    "            element of the pair is the paragraph number and\n",
    "            the second element is the number of sentences in\n",
    "            that paragraph.\n",
    "            Sample output: [(0, 1), (1, 3), (2, 3), (3, 1)]\n",
    "    \"\"\"\n",
    "    \n",
    "    paragraphs = input_text.split(\"\\n\")\n",
    "    sentence_counts = []\n",
    "    for paragraph in paragraphs:\n",
    "        number_of_sentences = count_sentences(paragraph)\n",
    "        sentence_counts.append(number_of_sentences)\n",
    "    \n",
    "    # Create a list with the paragraph numbers we need:\n",
    "    \n",
    "    paragraph_numbers = range(len(paragraphs))\n",
    "    \n",
    "    # Make a list of tuples by combining two existing lists:\n",
    "    sentences_per_paragraph = zip(paragraph_numbers, sentence_counts)\n",
    "    return sentences_per_paragraph\n",
    "\n",
    "def count_sentences(paragraph):\n",
    "    \"\"\"\n",
    "    A sentence is a character string delimited by a period \".\"\n",
    "    Given an input paragraph, return the number of sentences\n",
    "    in it.\n",
    "    :param paragraph: Character string with sentences.\n",
    "    :return: number of sentences in the input paragraph\n",
    "    \"\"\"\n",
    "    \n",
    "    sentences = paragraph.split(\".\")\n",
    "    return len(sentences)\n",
    "\n",
    "for para, count in count_sentences_per_paragraph(sample_text):\n",
    "    print(\"paragraph {0} contains {1} sentence(s)\".format(para,count))"
   ]
  },
  {
   "cell_type": "markdown",
   "metadata": {},
   "source": [
    "In situations where you are zipping lists that may be of different lengths, and want to pad out any 'missing' elements, you fill find `zip_longest` useful."
   ]
  },
  {
   "cell_type": "code",
   "execution_count": 28,
   "metadata": {},
   "outputs": [
    {
     "name": "stdout",
     "output_type": "stream",
     "text": [
      "('the', 'a')\n",
      "('cat', 'dog')\n",
      "('sat', 'lay')\n",
      "(None, 'down')\n"
     ]
    }
   ],
   "source": [
    "from itertools import zip_longest\n",
    "\n",
    "listA = [\"the\",\"cat\",\"sat\"]\n",
    "listB = [\"a\",\"dog\",\"lay\",\"down\"]\n",
    "for elem in zip_longest(listA,listB):\n",
    "    print(elem)"
   ]
  },
  {
   "cell_type": "markdown",
   "metadata": {},
   "source": [
    "### Enumerate\n",
    "Python provides a built-in function that can be used instead of `range` and `zip`."
   ]
  },
  {
   "cell_type": "code",
   "execution_count": 29,
   "metadata": {},
   "outputs": [
    {
     "name": "stdout",
     "output_type": "stream",
     "text": [
      "0 The\n",
      "1 Holy\n",
      "2 Grail\n"
     ]
    }
   ],
   "source": [
    "for a,b in enumerate(['The','Holy','Grail']): \n",
    "    print(a,b)"
   ]
  },
  {
   "cell_type": "code",
   "execution_count": 30,
   "metadata": {},
   "outputs": [
    {
     "name": "stdout",
     "output_type": "stream",
     "text": [
      "1 The\n",
      "2 Holy\n",
      "3 Grail\n"
     ]
    }
   ],
   "source": [
    "for a,b in enumerate(['The','Holy','Grail'],1): \n",
    "    print(a,b)"
   ]
  },
  {
   "cell_type": "markdown",
   "metadata": {},
   "source": [
    "### Exercise\n",
    "In the empty cell below, adapt the that calculates the number of sentences in each paragraph of a text so that it uses `enumerate` rather than `range` and `zip`.\n"
   ]
  },
  {
   "cell_type": "code",
   "execution_count": 35,
   "metadata": {},
   "outputs": [
    {
     "name": "stdout",
     "output_type": "stream",
     "text": [
      "paragraph 1 contains 1 sentence(s)\n",
      "paragraph 2 contains 3 sentence(s)\n",
      "paragraph 3 contains 3 sentence(s)\n",
      "paragraph 4 contains 2 sentence(s)\n"
     ]
    }
   ],
   "source": [
    "def count_sentences_per_paragraph(input_text):\n",
    "    par = input_text.split(\"\\n\")\n",
    "    par_counts = []\n",
    "    for paragraph in pars:\n",
    "        "
   ]
  },
  {
   "cell_type": "code",
   "execution_count": 9,
   "metadata": {},
   "outputs": [
    {
     "name": "stdout",
     "output_type": "stream",
     "text": [
      "paragraph 1 contains 1 sentence(s)\n",
      "paragraph 2 contains 3 sentence(s)\n",
      "paragraph 3 contains 3 sentence(s)\n",
      "paragraph 4 contains 2 sentence(s)\n"
     ]
    }
   ],
   "source": [
    "# %load solutions//count_sentences_per_paragraph\n",
    "def count_sentences_per_paragraph(input_text):\n",
    "    \"\"\"\n",
    "    Given an input text:\n",
    "     - assign a number to each paragraph,\n",
    "     - count the number of sentences in each paragraph,\n",
    "     - output a list of all paragraph numbers together\n",
    "       with the number of senfor a,b in enumerate(['The','Holy','Grail']): print a,btences in it.\n",
    "\n",
    "    :param input_text: A character string possibly containing\n",
    "                        periods \".\" to separate sentences and\n",
    "                        paragraph marks \"\\n\" to separate\n",
    "                        paragraphs.\n",
    "    :return: A list of ordered pairs (tuples) where the first\n",
    "            element of the pair is the paragraph number and\n",
    "            the second element is the number of sentences in\n",
    "            that paragraph.\n",
    "            Sample output: [(0, 1), (1, 3), (2, 3), (3, 1)]\n",
    "    \"\"\"\n",
    "    \n",
    "    paragraphs = input_text.split(\"\\n\")\n",
    "    sentence_counts = []\n",
    "    for paragraph in paragraphs:\n",
    "        number_of_sentences = count_sentences(paragraph)\n",
    "        sentence_counts.append(number_of_sentences)\n",
    "    sentences_per_paragraph = [(ind,val) for ind,val in enumerate(sentence_counts, 1)]\n",
    "    return sentences_per_paragraph\n",
    "\n",
    "def count_sentences(paragraph):\n",
    "    \"\"\"\n",
    "    A sentence is a character string delimited by a period \".\"\n",
    "    Given an input paragraph, return the number of sentences\n",
    "    in it.\n",
    "    :param paragraph: Character string with sentences.\n",
    "    :return: number of sentences in the input paragraph\n",
    "    \"\"\"\n",
    "    \n",
    "    sentences = paragraph.split(\".\")\n",
    "    return len(sentences)\n",
    "\n",
    "for para, count in count_sentences_per_paragraph(sample_text):\n",
    "    print(\"paragraph {0} contains {1} sentence(s)\".format(para,count))\n"
   ]
  },
  {
   "cell_type": "code",
   "execution_count": null,
   "metadata": {
    "collapsed": true
   },
   "outputs": [],
   "source": []
  }
 ],
 "metadata": {
  "anaconda-cloud": {},
  "kernelspec": {
   "display_name": "Python 3",
   "language": "python",
   "name": "python3"
  },
  "language_info": {
   "codemirror_mode": {
    "name": "ipython",
    "version": 3
   },
   "file_extension": ".py",
   "mimetype": "text/x-python",
   "name": "python",
   "nbconvert_exporter": "python",
   "pygments_lexer": "ipython3",
   "version": "3.6.1"
  }
 },
 "nbformat": 4,
 "nbformat_minor": 1
}
