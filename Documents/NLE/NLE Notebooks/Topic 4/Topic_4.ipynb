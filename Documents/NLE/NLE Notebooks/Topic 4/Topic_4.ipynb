{
 "cells": [
  {
   "cell_type": "markdown",
   "metadata": {},
   "source": [
    "# Topic 4: Part-of-speech (PoS) Tagging"
   ]
  },
  {
   "cell_type": "markdown",
   "metadata": {},
   "source": [
    "## Preliminaries \n",
    "Run this cell."
   ]
  },
  {
   "cell_type": "code",
   "execution_count": 6,
   "metadata": {
    "collapsed": true
   },
   "outputs": [],
   "source": [
    "import sys\n",
    "sys.path.append(r'\\\\ad.susx.ac.uk\\ITS\\TeachingResources\\Departments\\Informatics\\LanguageEngineering\\resources')\n",
    "import re\n",
    "import pandas as pd\n",
    "import numpy as np\n",
    "import matplotlib.pyplot as plt\n",
    "import collections\n",
    "from collections import defaultdict,Counter\n",
    "from itertools import zip_longest\n",
    "from IPython.display import display\n",
    "from random import seed\n",
    "get_ipython().magic('matplotlib inline')\n",
    "import random\n",
    "import math\n",
    "import matplotlib.pylab as pylab\n",
    "%matplotlib inline\n",
    "params = {'legend.fontsize': 'large',\n",
    "          'figure.figsize': (15, 5),\n",
    "         'axes.labelsize': 'large',\n",
    "         'axes.titlesize':'large',\n",
    "         'xtick.labelsize':'large',\n",
    "         'ytick.labelsize':'large'}\n",
    "pylab.rcParams.update(params)\n",
    "from pylab import rcParams\n",
    "from operator import itemgetter, attrgetter, methodcaller\n",
    "import matplotlib.pyplot as plt\n",
    "from sklearn.decomposition import TruncatedSVD\n",
    "from sklearn.feature_extraction.text import TfidfVectorizer\n",
    "import seaborn as sns\n",
    "import csv"
   ]
  },
  {
   "cell_type": "markdown",
   "metadata": {},
   "source": [
    "### Tokens vs Types\n",
    "This session concerns the task of part-of-speech tagging. It is loosely divided into 2 parts: the first part deals with the notion of PoS ambiguity of a vocabulary type; and the second part compares the performance of two taggers on various corpora.\n",
    "\n",
    "We will be making an important distinction between tokens and types. A sentence in a document is make up of a sequence of tokens. For example the list\n",
    "`[\"the\", \"cat\", \"sat\", \"on\", \"the\", \"mat\", \".\"]`  \n",
    "contains 7 tokens, but only 6 distinct strings: there are two occurrences of `\"the\"`. \n",
    "\n",
    "The way we say this is that there are 6 **types** in the sentence, but 7 **tokens**. Tokens are occurrences of types.\n",
    "\n",
    "In this session we will be looking at the ambiguity of types not tokens."
   ]
  },
  {
   "cell_type": "markdown",
   "metadata": {},
   "source": [
    "## Average PoS tag ambiguity \n",
    "The Part-of-Speech (PoS) tag ambiguity of a type is a measure of how varied the PoS tags are for that type. \n",
    "\n",
    "Some types are always (or almost always) labelled with the same PoS tag, so exhibit no (or very little) ambiguity. It is easy to predict the correct PoS tag for such words. \n",
    "\n",
    "On the other hand, a type that is commonly labelled by a variety of different PoS tags exhibits a high level of ambiguity, and is more challenging to deal with.\n",
    "\n",
    "In this session, we are going to be considering two measures of a type's ambiguity. \n",
    "\n",
    "In this section, we consider a simple measure that just counts the number of different tags that label the type. \n",
    "\n",
    "In the next section we will look at a more complex information-theoretic measure based on entropy."
   ]
  },
  {
   "cell_type": "markdown",
   "metadata": {},
   "source": [
    "### Exercise\n",
    "In the blank cell below, create a function `simple_pos_ambiguity`. \n",
    "\n",
    "Here is the docstring for `simple_pos_ambiguity`:\n",
    "```\n",
    "    \"\"\"\n",
    "    for each type in the Walls Street Journal corpus, this \n",
    "    function determines the number of different PoS tags that\n",
    "    the type as been assigned.\n",
    "\n",
    "    :param none\n",
    "    :return: A dictionary (hashmap) mapping each type to its \n",
    "            degree of ambiguity (the number of distinct PoS tags \n",
    "            that the type is labelled with in the Wall Street \n",
    "            Journal Corpus).\n",
    "    \"\"\"\n",
    "```\n",
    "\n",
    "Create `simple_pos_ambiguity` as follows:\n",
    "\n",
    "1. Create a Wall Street Journal corpus reader\n",
    "2. Use the corpus reader's method `tagged_words`, to get a list of all tokens in the corpus tagged with their PoS (e.g. if your corpus reader is called `wsj_reader`, then you'd call `wsj_reader.tagged_words()`). This method is available because the Wall Street Journal corpus has been hand-annotated with PoS tags.\n",
    "3. For each type, build a set containing all of the different PoS tags that are assigned to that type. So if in the Wall Street Journal corpus \"red\" occurred only as a noun and adjective, then this number would be a two element set containing just these two part-of-speech tags. The size (cardinality) of the set is the ambiguity of that type. See below for details.\n",
    "4. Return a Python dictionary (hashmap) mapping each type to its ambiguity.  \n",
    "\n",
    "Some useful hints:\n",
    "- It will be useful to have this line: `from collections import defaultdict`.\n",
    "- See https://docs.python.org/3/library/collections.html#collections.defaultdict for how to use `defaultdict`.\n",
    "- Think carefully about what is an appropirate type to give `defaultdict` as a parameter.\n"
   ]
  },
  {
   "cell_type": "code",
   "execution_count": null,
   "metadata": {},
   "outputs": [],
   "source": []
  },
  {
   "cell_type": "code",
   "execution_count": 23,
   "metadata": {
    "collapsed": true
   },
   "outputs": [],
   "source": [
    "# %load solutions/simple_ambiguity\n",
    "from collections import defaultdict\n",
    "from sussex_nltk.corpus_readers import WSJCorpusReader\n",
    "\n",
    "def simple_pos_ambiguity():\n",
    "    \"\"\"\n",
    "    for each type in the Walls Street Journal corpus, this \n",
    "    function determines the number of different PoS tags that\n",
    "    the type as been assigned.\n",
    "\n",
    "    :param none\n",
    "    :return: A dictionary (hashmap) mapping each type to its \n",
    "            degree of ambiguity (the number of distinct PoS tags \n",
    "            that the type is labelled with in the Wall Street \n",
    "            Journal Corpus).\n",
    "    \"\"\"\n",
    "    wsj_reader = WSJCorpusReader()    #Create a new reader\n",
    "    tags_dict = defaultdict(set)\n",
    "    for tok,tag in wsj_reader.tagged_words():\n",
    "        tags_dict[tok].add(tag)\n",
    "    count_dict = defaultdict(int)\n",
    "    for ty in tags_dict.keys():\n",
    "        count_dict[ty] = len(tags_dict[ty])\n",
    "    return count_dict"
   ]
  },
  {
   "cell_type": "markdown",
   "metadata": {},
   "source": [
    "### Exercise\n",
    "In the blank cell below, check that the ambiguity of \"*blue*\" is 2 in the Wall Street Journal corpus. It occurs as a noun and adjective only."
   ]
  },
  {
   "cell_type": "code",
   "execution_count": 42,
   "metadata": {},
   "outputs": [
    {
     "data": {
      "text/plain": [
       "3"
      ]
     },
     "execution_count": 42,
     "metadata": {},
     "output_type": "execute_result"
    }
   ],
   "source": [
    "dict = simple_pos_ambiguity()\n",
    "dict[\"will\"]"
   ]
  },
  {
   "cell_type": "code",
   "execution_count": 14,
   "metadata": {
    "collapsed": true
   },
   "outputs": [],
   "source": [
    "# %load solutions/blue\n"
   ]
  },
  {
   "cell_type": "markdown",
   "metadata": {},
   "source": [
    "### Exercise\n",
    "In the blank cell below, write code to find the average ambituity of words in the Wall Street Journal corpus.\n",
    "\n",
    "This might be useful:  \n",
    "`from scipy import mean`\n"
   ]
  },
  {
   "cell_type": "code",
   "execution_count": null,
   "metadata": {},
   "outputs": [],
   "source": []
  },
  {
   "cell_type": "code",
   "execution_count": 24,
   "metadata": {},
   "outputs": [
    {
     "data": {
      "text/plain": [
       "1.1663008576189895"
      ]
     },
     "execution_count": 24,
     "metadata": {},
     "output_type": "execute_result"
    }
   ],
   "source": [
    "# %load solutions/average_ambiguity\n",
    "from numpy import average\n",
    "from scipy import mean\n",
    "ambiguities = simple_pos_ambiguity()\n",
    "#mean(ambiguities.values())\n",
    "#values = ambiguities.values()\n",
    "#values\n",
    "mean([value for value in ambiguities.values()])\n"
   ]
  },
  {
   "cell_type": "markdown",
   "metadata": {},
   "source": [
    "## Entropy as a measure of ambiguity \n",
    "\n",
    "In this activity, you are given a function that calculates PoS ambiguity in a different way, using the notion of [entropy](http://en.wikipedia.org/wiki/Entropy_(information_theory). \n",
    "\n",
    "Below we will find a function `get_entropy_ambiguity` that is used to get a measure of the PoS ambiguity of a word in the Wall Street Journal corpus based on entropy.\n",
    "\n",
    "First let's get a sense of how entropy works.\n",
    "\n",
    "Entropy is a measure of uncertainty. A word will have high entropy when it occurs the same number of times with each part of speech. There is maximum uncertainty as to which part of speech it has.\n",
    "\n",
    "The larger the part of speech tagset, the greater the potential for uncertainty, and the higher the entropy can be.\n",
    "\n",
    "### Exercise\n",
    "In the cell below we see a function `entropy`. It's argument is a list of counts (which in our case are counts of how many times a word appeared with a given part of speech).\n",
    "\n",
    "Check that you understand how the code implements this definition of entropy:\n",
    "$$H([x_1,\\ldots,x_n])=\\sum_{i=1}^nP(x_i)\\log_2 P(x_i)$$\n",
    "where $n$ is the number of PoS tags, and $x_i$ is a count of how many times the word was labelled with the $i$th PoS tag."
   ]
  },
  {
   "cell_type": "code",
   "execution_count": 25,
   "metadata": {
    "collapsed": true
   },
   "outputs": [],
   "source": [
    "from math import log\n",
    "\n",
    "def entropy(counts):            # counts = list of counts of occurrences of tags\n",
    "    total = sum(counts)         # get total number of occurrences\n",
    "    if not total: return 0      # if zero occurrences in total, then 0 entropy\n",
    "    entropy = 0\n",
    "    for i in counts:            # for each tag count\n",
    "        p = i/total      # probability that the token occurs with this tag\n",
    "        try:\n",
    "            entropy += p * log(p,2) # add to entropy\n",
    "        except ValueError: pass     # if p==0, then ignore this p\n",
    "    return -entropy if entropy else entropy   # only negate if nonzero, otherwise \n",
    "                                              # floats can return -0.0, which is weird.\n"
   ]
  },
  {
   "cell_type": "markdown",
   "metadata": {},
   "source": [
    "### Exercise\n",
    "In the empty cell below, experiment with the `entropy` function.\n",
    "- It takes a list of counts as its argument.\n",
    "- Compare the entropy of a list where all counts are the same with the entropy of a list of different counts.\n",
    "- Investigate the effect of varying the length of the list of counts."
   ]
  },
  {
   "cell_type": "code",
   "execution_count": 37,
   "metadata": {},
   "outputs": [
    {
     "name": "stdout",
     "output_type": "stream",
     "text": [
      "1.584962500721156 3.263393653274255\n"
     ]
    }
   ],
   "source": [
    "l = [2, 2, 2]\n",
    "l2 = [1, 2, 0, 3, 6, 4, 5, 7, 3, 8, 2, 4]\n",
    "print(entropy(l), entropy(l2))"
   ]
  },
  {
   "cell_type": "markdown",
   "metadata": {},
   "source": [
    "We are now ready to look at the `get_entropy_ambiguity` function.\n",
    "\n",
    "Although it isn't efficient, in order to keep the code simple, `get_entropy_ambiguity` only computes the ambiguity of one word for any given call. This means that to find the average entropy of all of the types in the corpus, you would have to call the function once per type.\n",
    "\n",
    "### Exercise\n",
    "Have a careful look at the code for `get_entropy_ambiguity` in the cell below.\n",
    "\n",
    "Note that the code below uses `try-except` statements. The code under the try statement is executed, and if an exception is raised, then the code under the except statement is executed. "
   ]
  },
  {
   "cell_type": "code",
   "execution_count": 43,
   "metadata": {},
   "outputs": [
    {
     "name": "stdout",
     "output_type": "stream",
     "text": [
      "Ambiguity of \"either\": 0.0781\n",
      "Ambiguity of \"value\": 0.0756\n"
     ]
    }
   ],
   "source": [
    "from math import log\n",
    "from sussex_nltk.corpus_readers import WSJCorpusReader\n",
    "from collections import defaultdict\n",
    "\n",
    "def get_entropy_ambiguity(word):\n",
    "# Get the PoS ambiguity of *word* according to its occurrence in WSJ\n",
    "    pos_counts = defaultdict(int)       # keep track of the number of times *word* \n",
    "                                        # appears with each PoS tag\n",
    "    for token, tag in WSJCorpusReader().tagged_words():   \n",
    "        if token == word:               \n",
    "            pos_counts[tag] += 1\n",
    "    return entropy(pos_counts.values())\n",
    "\n",
    "def entropy(counts):            # counts = list of counts of occurrences of tags\n",
    "    total = sum(counts)         # get total number of occurrences\n",
    "    if not total: return 0      # if zero occurrences in total, then 0 entropy\n",
    "    entropy = 0\n",
    "    for i in counts:            # for each tag count\n",
    "        p = i/total      # probability that the token occurs with this tag\n",
    "        try:\n",
    "            entropy += p * log(p,2) # add to entropy\n",
    "        except ValueError: pass     # if p==0, then ignore this p\n",
    "    return -entropy if entropy else entropy   # only negate if nonzero, otherwise \n",
    "                                              # floats can return -0.0, which is weird.\n",
    "    \n",
    "# Usage:\n",
    "print('Ambiguity of \"either\": {0:.4f}'.format(get_entropy_ambiguity(\"will\")))\n",
    "print('Ambiguity of \"value\": {0:.4f}'.format(get_entropy_ambiguity(\"value\")))"
   ]
  },
  {
   "cell_type": "markdown",
   "metadata": {},
   "source": [
    "### Exercise\n",
    "- Use your simple measure of PoS ambiguity (from the previous section) to calculate the PoS ambiguity of the words \"*either*\" and \"*value*\". \n",
    "- Now do the same with the entropy-based ambiguity measure. \n",
    "- How do the measures differ? \n",
    "- Which measure produces a more representative figure for how ambiguous the PoS of a type is?"
   ]
  },
  {
   "cell_type": "markdown",
   "metadata": {},
   "source": [
    "## Experiment with PoS taggers\n",
    "In this section you will have a chance to use two different Part-of-Speech taggers: the NLTK Maximum Entropy PoS tagger; and the Twitter-specific PoS tagger from Gimpel et al.\n",
    "\n",
    "The following code shows you how to use these taggers."
   ]
  },
  {
   "cell_type": "code",
   "execution_count": null,
   "metadata": {
    "collapsed": true
   },
   "outputs": [],
   "source": [
    "from sussex_nltk.corpus_readers import ReutersCorpusReader\n",
    "from sussex_nltk.tag import twitter_tag_batch\n",
    "from nltk import pos_tag\n",
    "from nltk.tokenize import word_tokenize\n",
    "\n",
    "number_of_sentences = 10     #Number of sentences to sample and display\n",
    "rcr = ReutersCorpusReader()  #Create a corpus reader\n",
    "sentences = rcr.sample_raw_sents(number_of_sentences)  #Sample some sentences\n",
    "\n",
    "#Tag with twitter specific tagger\n",
    "# - it also tokenises for you in a twitter specific way\n",
    "twitter_tagged = twitter_tag_batch(sentences)   \n",
    "\n",
    "#Tag with NLTK's maximum entropy tagger         \n",
    "nltk_tagged = [pos_tag(word_tokenize(sentence)) for sentence in sentences] \n",
    "\n",
    "#Print results for each sentence\n",
    "for raw, twitter_sentence, nltk_sentence in zip(sentences,twitter_tagged,nltk_tagged):\n",
    "    print(\"\\n\",raw,\"\\n\")\n",
    "    df = pd.DataFrame(list(zip_longest([(token,tag) for token,tag in nltk_sentence],\n",
    "                                       [(token,tag) for token,tag in twitter_sentence])),\n",
    "                      columns=[\"nltk tagger\",\"twitter tagger\"])\n",
    "    print(df)"
   ]
  },
  {
   "cell_type": "markdown",
   "metadata": {},
   "source": [
    "### Exercise\n",
    "Make a copy of the cell above that ran the two taggerson a sample of Reuters data, and move the copy to be positioned below this cell.\n",
    "\n",
    "Adapt the code so that it runs both taggers on a sample of sentences from the Reuters, Medline and Twitter corpora.\n",
    "\n",
    "Then run the code and try to observe limitations and strengths of the taggers on the various corpora.\n"
   ]
  },
  {
   "cell_type": "code",
   "execution_count": null,
   "metadata": {
    "collapsed": true
   },
   "outputs": [],
   "source": [
    "from sussex_nltk.corpus_readers import ReutersCorpusReader\n",
    "from sussex_nltk.tag import twitter_tag_batch\n",
    "from nltk import pos_tag\n",
    "from nltk.tokenize import word_tokenize\n",
    "\n",
    "number_of_sentences = 10     #Number of sentences to sample and display\n",
    "rcr = ReutersCorpusReader()  #Create a corpus reader\n",
    "sentences = rcr.sample_raw_sents(number_of_sentences)  #Sample some sentences\n",
    "\n",
    "#Tag with twitter specific tagger\n",
    "# - it also tokenises for you in a twitter specific way\n",
    "twitter_tagged = twitter_tag_batch(sentences)   \n",
    "\n",
    "#Tag with NLTK's maximum entropy tagger         \n",
    "nltk_tagged = [pos_tag(word_tokenize(sentence)) for sentence in sentences] \n",
    "\n",
    "#Print results for each sentence\n",
    "for raw, twitter_sentence, nltk_sentence in zip(sentences,twitter_tagged,nltk_tagged):\n",
    "    print(\"\\n\",raw,\"\\n\")\n",
    "    df = pd.DataFrame(list(zip_longest([(token,tag) for token,tag in nltk_sentence],\n",
    "                                       [(token,tag) for token,tag in twitter_sentence])),\n",
    "                      columns=[\"nltk tagger\",\"twitter tagger\"])\n",
    "    print(df)"
   ]
  },
  {
   "cell_type": "code",
   "execution_count": 49,
   "metadata": {},
   "outputs": [
    {
     "ename": "RuntimeError",
     "evalue": "Can't find an installed Java Runtime Environment (JRE).If you have installed java in a non standard location please call nltk.internals.config_java with the correct JRE path and options='-Xmx1g -XX:ParallelGCThreads=2' before calling sussex_nltk.cmu.tag",
     "output_type": "error",
     "traceback": [
      "\u001b[1;31m---------------------------------------------------------------------------\u001b[0m",
      "\u001b[1;31mRuntimeError\u001b[0m                              Traceback (most recent call last)",
      "\u001b[1;32m<ipython-input-49-9c903d77a868>\u001b[0m in \u001b[0;36m<module>\u001b[1;34m()\u001b[0m\n\u001b[0;32m     16\u001b[0m \u001b[1;31m#Tag with twitter specific tagger\u001b[0m\u001b[1;33m\u001b[0m\u001b[1;33m\u001b[0m\u001b[0m\n\u001b[0;32m     17\u001b[0m \u001b[1;31m# - it also tokenises for you in a twitter specific way\u001b[0m\u001b[1;33m\u001b[0m\u001b[1;33m\u001b[0m\u001b[0m\n\u001b[1;32m---> 18\u001b[1;33m \u001b[0mtwitter_tagged_reuters\u001b[0m \u001b[1;33m=\u001b[0m \u001b[0mtwitter_tag_batch\u001b[0m\u001b[1;33m(\u001b[0m\u001b[0mreuters_sents\u001b[0m\u001b[1;33m)\u001b[0m\u001b[1;33m\u001b[0m\u001b[0m\n\u001b[0m\u001b[0;32m     19\u001b[0m \u001b[0mtwitter_tagged_medline\u001b[0m \u001b[1;33m=\u001b[0m \u001b[0mtwitter_tag_batch\u001b[0m\u001b[1;33m(\u001b[0m\u001b[0mmedline_sents\u001b[0m\u001b[1;33m)\u001b[0m\u001b[1;33m\u001b[0m\u001b[0m\n\u001b[0;32m     20\u001b[0m \u001b[0mtwitter_tagged_twitter\u001b[0m \u001b[1;33m=\u001b[0m \u001b[0mtwitter_tag_batch\u001b[0m\u001b[1;33m(\u001b[0m\u001b[0mtwitter_sents\u001b[0m\u001b[1;33m)\u001b[0m\u001b[1;33m\u001b[0m\u001b[0m\n",
      "\u001b[1;32m\\\\ad.susx.ac.uk\\ITS\\TeachingResources\\Departments\\Informatics\\LanguageEngineering\\resources\\sussex_nltk\\tag.py\u001b[0m in \u001b[0;36mtwitter_tag_batch\u001b[1;34m(sents)\u001b[0m\n\u001b[0;32m     50\u001b[0m     \u001b[1;33m:\u001b[0m\u001b[0mrtype\u001b[0m\u001b[1;33m:\u001b[0m \u001b[1;33m[\u001b[0m\u001b[1;33m[\u001b[0m\u001b[1;33m(\u001b[0m\u001b[0mword\u001b[0m\u001b[1;33m,\u001b[0m \u001b[0mtag\u001b[0m\u001b[1;33m)\u001b[0m\u001b[1;33m,\u001b[0m \u001b[1;33m...\u001b[0m\u001b[1;33m]\u001b[0m\u001b[1;33m,\u001b[0m \u001b[1;33m[\u001b[0m\u001b[1;33m(\u001b[0m\u001b[0mword\u001b[0m\u001b[1;33m,\u001b[0m \u001b[0mtag\u001b[0m\u001b[1;33m)\u001b[0m\u001b[1;33m,\u001b[0m \u001b[1;33m...\u001b[0m\u001b[1;33m]\u001b[0m\u001b[1;33m]\u001b[0m\u001b[1;33m\u001b[0m\u001b[0m\n\u001b[0;32m     51\u001b[0m     '''\n\u001b[1;32m---> 52\u001b[1;33m     \u001b[0m_output_data\u001b[0m \u001b[1;33m=\u001b[0m \u001b[0mcmu\u001b[0m\u001b[1;33m.\u001b[0m\u001b[0mtag\u001b[0m\u001b[1;33m(\u001b[0m\u001b[0msents\u001b[0m\u001b[1;33m)\u001b[0m\u001b[1;33m\u001b[0m\u001b[0m\n\u001b[0m\u001b[0;32m     53\u001b[0m     \u001b[0m_output_tokens\u001b[0m \u001b[1;33m=\u001b[0m \u001b[1;33m[\u001b[0m\u001b[1;33m]\u001b[0m\u001b[1;33m\u001b[0m\u001b[0m\n\u001b[0;32m     54\u001b[0m     \u001b[0msent\u001b[0m \u001b[1;33m=\u001b[0m \u001b[1;33m[\u001b[0m\u001b[1;33m]\u001b[0m\u001b[1;33m\u001b[0m\u001b[0m\n",
      "\u001b[1;32m\\\\ad.susx.ac.uk\\ITS\\TeachingResources\\Departments\\Informatics\\LanguageEngineering\\resources\\sussex_nltk\\cmu.py\u001b[0m in \u001b[0;36mtag\u001b[1;34m(sents, java_options)\u001b[0m\n\u001b[0;32m     62\u001b[0m             \u001b[1;32melse\u001b[0m\u001b[1;33m:\u001b[0m\u001b[1;33m\u001b[0m\u001b[0m\n\u001b[0;32m     63\u001b[0m                 raise RuntimeError(\n\u001b[1;32m---> 64\u001b[1;33m                     \u001b[1;34m'Can\\'t find an installed Java Runtime Environment (JRE).'\u001b[0m\u001b[1;33m\u001b[0m\u001b[0m\n\u001b[0m\u001b[0;32m     65\u001b[0m                     \u001b[1;34m'If you have installed java in a non standard location '\u001b[0m\u001b[1;33m\u001b[0m\u001b[0m\n\u001b[0;32m     66\u001b[0m                     \u001b[1;34m'please call nltk.internals.config_java with the correct '\u001b[0m\u001b[1;33m\u001b[0m\u001b[0m\n",
      "\u001b[1;31mRuntimeError\u001b[0m: Can't find an installed Java Runtime Environment (JRE).If you have installed java in a non standard location please call nltk.internals.config_java with the correct JRE path and options='-Xmx1g -XX:ParallelGCThreads=2' before calling sussex_nltk.cmu.tag"
     ]
    }
   ],
   "source": [
    "# %load solutions/tag_all_corpora\n",
    "from sussex_nltk.corpus_readers import ReutersCorpusReader, MedlineCorpusReader, TwitterCorpusReader\n",
    "from sussex_nltk.tag import twitter_tag_batch\n",
    "from nltk import pos_tag\n",
    "from nltk.tokenize import word_tokenize\n",
    "\n",
    "number_of_sentences = 10     #Number of sentences to sample and display\n",
    "rcr = ReutersCorpusReader()  #Create a corpus reader\n",
    "mcr = MedlineCorpusReader()\n",
    "tcr = TwitterCorpusReader()\n",
    "\n",
    "reuters_sents = rcr.sample_raw_sents(number_of_sentences) \n",
    "medline_sents = mcr.sample_raw_sents(number_of_sentences) \n",
    "twitter_sents = tcr.sample_raw_sents(number_of_sentences) \n",
    "\n",
    "#Tag with twitter specific tagger\n",
    "# - it also tokenises for you in a twitter specific way\n",
    "twitter_tagged_reuters = twitter_tag_batch(reuters_sents)   \n",
    "twitter_tagged_medline = twitter_tag_batch(medline_sents)   \n",
    "twitter_tagged_twitter = twitter_tag_batch(twitter_sents)   \n",
    "\n",
    "#Tag with NLTK's maximum entropy tagger         \n",
    "nltk_tagged_reuters = [pos_tag(word_tokenize(sentence)) for sentence in reuters_sents]  \n",
    "nltk_tagged_medline = [pos_tag(word_tokenize(sentence)) for sentence in medline_sents]  \n",
    "nltk_tagged_twitter = [pos_tag(word_tokenize(sentence)) for sentence in twitter_sents]  \n",
    "\n",
    "#Print each sentence\n",
    "print(\"-----------------------------------------\")\n",
    "print(\"Reuters Sample\")\n",
    "print(\"-----------------------------------------\")\n",
    "for raw, twitter_sentence, nltk_sentence in zip(reuters_sents,twitter_tagged_reuters,nltk_tagged_reuters):\n",
    "    print(\"\\n\",raw,\"\\n\")\n",
    "    df = pd.DataFrame(list(zip_longest([(token,tag) for token,tag in nltk_sentence],\n",
    "                                       [(token,tag) for token,tag in twitter_sentence])),\n",
    "                      columns=[\"nltk tagger\",\"twitter tagger\"])\n",
    "    print(df)\n",
    "print(\"-----------------------------------------\")\n",
    "print(\"Medline Sample\")\n",
    "print(\"-----------------------------------------\")\n",
    "for raw, twitter_sentence, nltk_sentence in zip(medline_sents,twitter_tagged_medline,nltk_tagged_medline):\n",
    "    print(\"\\n\",raw,\"\\n\")\n",
    "    df = pd.DataFrame(list(zip_longest([(token,tag) for token,tag in nltk_sentence],\n",
    "                                       [(token,tag) for token,tag in twitter_sentence])),\n",
    "                      columns=[\"nltk tagger\",\"twitter tagger\"])\n",
    "    print(df)\n",
    "print(\"-----------------------------------------\")\n",
    "print(\"Twitter Sample\")\n",
    "print(\"-----------------------------------------\")\n",
    "for raw, twitter_sentence, nltk_sentence in zip(twitter_sents,twitter_tagged_twitter,nltk_tagged_twitter):\n",
    "    print(\"\\n\",raw,\"\\n\")\n",
    "    df = pd.DataFrame(list(zip_longest([(token,tag) for token,tag in nltk_sentence],\n",
    "                                       [(token,tag) for token,tag in twitter_sentence])),\n",
    "                      columns=[\"nltk tagger\",\"twitter tagger\"])\n",
    "    print(df)"
   ]
  },
  {
   "cell_type": "markdown",
   "metadata": {},
   "source": [
    "### Using PoS feature for classification\n",
    "In the blank cell below, investigate the performance of the Naïve Bayes classifier with two different feature extraction functions involving PoS information:\n",
    "- A feature extraction function that returns just the PoS tags, i.e. no token.\n",
    "- A feature extraction function that returns a new token that results from concatenating the token and its PoS.\n",
    "\n",
    "How do these compare to the standard setup where no feature extractor is used?\n"
   ]
  },
  {
   "cell_type": "code",
   "execution_count": null,
   "metadata": {},
   "outputs": [],
   "source": []
  },
  {
   "cell_type": "code",
   "execution_count": 2,
   "metadata": {
    "collapsed": true
   },
   "outputs": [],
   "source": [
    "# %load solutions/classification_with_PoS\n"
   ]
  },
  {
   "cell_type": "code",
   "execution_count": null,
   "metadata": {
    "collapsed": true
   },
   "outputs": [],
   "source": []
  }
 ],
 "metadata": {
  "anaconda-cloud": {},
  "kernelspec": {
   "display_name": "Python 3",
   "language": "python",
   "name": "python3"
  },
  "language_info": {
   "codemirror_mode": {
    "name": "ipython",
    "version": 3
   },
   "file_extension": ".py",
   "mimetype": "text/x-python",
   "name": "python",
   "nbconvert_exporter": "python",
   "pygments_lexer": "ipython3",
   "version": "3.6.1"
  }
 },
 "nbformat": 4,
 "nbformat_minor": 1
}
