{
 "cells": [
  {
   "cell_type": "markdown",
   "metadata": {},
   "source": [
    "# NLE Coursework 1\n",
    "---\n",
    "## Section 1\n",
    "### 1.1\n",
    "\n",
    "1. Wordlist classifier \n",
    "    - relies on one of the lists derived from training data\n",
    "    - counts mentionings of words from those lists \n",
    "    - accuracy suffers from little data (lack of usable/reliable data)\n",
    "2. Naive Bayes calssifier \n",
    "    - deals with wordlists and probabilities of words/documents beloning to some class\n",
    "    - has more data to work with, unlike WL classifier\n",
    "    "
   ]
  },
  {
   "cell_type": "code",
   "execution_count": null,
   "metadata": {
    "collapsed": true
   },
   "outputs": [],
   "source": []
  }
 ],
 "metadata": {
  "kernelspec": {
   "display_name": "Python 3",
   "language": "python",
   "name": "python3"
  },
  "language_info": {
   "codemirror_mode": {
    "name": "ipython",
    "version": 3
   },
   "file_extension": ".py",
   "mimetype": "text/x-python",
   "name": "python",
   "nbconvert_exporter": "python",
   "pygments_lexer": "ipython3",
   "version": "3.6.1"
  }
 },
 "nbformat": 4,
 "nbformat_minor": 2
}
